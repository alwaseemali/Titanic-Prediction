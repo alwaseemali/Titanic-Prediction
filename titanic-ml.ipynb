{
 "cells": [
  {
   "cell_type": "code",
   "execution_count": 1,
   "id": "a56583bd",
   "metadata": {
    "_cell_guid": "b1076dfc-b9ad-4769-8c92-a6c4dae69d19",
    "_uuid": "8f2839f25d086af736a60e9eeb907d3b93b6e0e5",
    "execution": {
     "iopub.execute_input": "2022-03-15T00:24:52.772858Z",
     "iopub.status.busy": "2022-03-15T00:24:52.771895Z",
     "iopub.status.idle": "2022-03-15T00:24:54.285928Z",
     "shell.execute_reply": "2022-03-15T00:24:54.285053Z",
     "shell.execute_reply.started": "2022-03-15T00:24:03.866431Z"
    },
    "papermill": {
     "duration": 1.579567,
     "end_time": "2022-03-15T00:24:54.286244",
     "exception": false,
     "start_time": "2022-03-15T00:24:52.706677",
     "status": "completed"
    },
    "tags": []
   },
   "outputs": [
    {
     "name": "stdout",
     "output_type": "stream",
     "text": [
      "/kaggle/input/titanic/train.csv\n",
      "/kaggle/input/titanic/test.csv\n",
      "/kaggle/input/titanic/gender_submission.csv\n"
     ]
    }
   ],
   "source": [
    "# This Python 3 environment comes with many helpful analytics libraries installed\n",
    "# It is defined by the kaggle/python Docker image: https://github.com/kaggle/docker-python\n",
    "# For example, here's several helpful packages to load\n",
    "\n",
    "import numpy as np # linear algebra\n",
    "import pandas as pd # data processing, CSV file I/O (e.g. pd.read_csv)\n",
    "import numpy as np\n",
    "import pandas as pd \n",
    "import seaborn as sns\n",
    "import matplotlib.pyplot as plt\n",
    "from sklearn.model_selection import train_test_split\n",
    "from sklearn.svm import SVC\n",
    "from sklearn.neighbors import KNeighborsClassifier\n",
    "from sklearn.ensemble import AdaBoostClassifier\n",
    "from sklearn.ensemble import GradientBoostingClassifier\n",
    "from sklearn.metrics import confusion_matrix\n",
    "from sklearn.metrics import accuracy_score\n",
    "from sklearn.model_selection import GridSearchCV\n",
    "from sklearn import metrics\n",
    "from sklearn.tree import DecisionTreeClassifier\n",
    "from sklearn import svm\n",
    "from sklearn.metrics import f1_score\n",
    "from sklearn.model_selection import GridSearchCV\n",
    "from sklearn.ensemble import RandomForestClassifier\n",
    "from sklearn.preprocessing import StandardScaler\n",
    "from sklearn.metrics import classification_report, confusion_matrix, accuracy_score\n",
    "from sklearn.linear_model import LogisticRegression\n",
    "from sklearn.svm import SVC\n",
    "from sklearn.tree import DecisionTreeClassifier\n",
    "from sklearn.neighbors import KNeighborsClassifier\n",
    "import warnings\n",
    "warnings.filterwarnings('ignore')\n",
    "# Input data files are available in the read-only \"../input/\" directory\n",
    "# For example, running this (by clicking run or pressing Shift+Enter) will list all files under the input directory\n",
    "\n",
    "import os\n",
    "for dirname, _, filenames in os.walk('/kaggle/input'):\n",
    "    for filename in filenames:\n",
    "        print(os.path.join(dirname, filename))\n",
    "\n",
    "# You can write up to 20GB to the current directory (/kaggle/working/) that gets preserved as output when you create a version using \"Save & Run All\" \n",
    "# You can also write temporary files to /kaggle/temp/, but they won't be saved outside of the current session"
   ]
  },
  {
   "cell_type": "code",
   "execution_count": 2,
   "id": "ef70cdba",
   "metadata": {
    "execution": {
     "iopub.execute_input": "2022-03-15T00:24:54.393077Z",
     "iopub.status.busy": "2022-03-15T00:24:54.392432Z",
     "iopub.status.idle": "2022-03-15T00:24:54.410148Z",
     "shell.execute_reply": "2022-03-15T00:24:54.410682Z",
     "shell.execute_reply.started": "2022-03-15T00:24:03.883719Z"
    },
    "papermill": {
     "duration": 0.073967,
     "end_time": "2022-03-15T00:24:54.410861",
     "exception": false,
     "start_time": "2022-03-15T00:24:54.336894",
     "status": "completed"
    },
    "tags": []
   },
   "outputs": [],
   "source": [
    "df=pd.read_csv('/kaggle/input/titanic/train.csv')\n"
   ]
  },
  {
   "cell_type": "code",
   "execution_count": 3,
   "id": "551aed26",
   "metadata": {
    "execution": {
     "iopub.execute_input": "2022-03-15T00:24:54.520404Z",
     "iopub.status.busy": "2022-03-15T00:24:54.519684Z",
     "iopub.status.idle": "2022-03-15T00:24:54.538752Z",
     "shell.execute_reply": "2022-03-15T00:24:54.539269Z",
     "shell.execute_reply.started": "2022-03-15T00:24:03.922011Z"
    },
    "papermill": {
     "duration": 0.076932,
     "end_time": "2022-03-15T00:24:54.539446",
     "exception": false,
     "start_time": "2022-03-15T00:24:54.462514",
     "status": "completed"
    },
    "tags": []
   },
   "outputs": [
    {
     "data": {
      "text/html": [
       "<div>\n",
       "<style scoped>\n",
       "    .dataframe tbody tr th:only-of-type {\n",
       "        vertical-align: middle;\n",
       "    }\n",
       "\n",
       "    .dataframe tbody tr th {\n",
       "        vertical-align: top;\n",
       "    }\n",
       "\n",
       "    .dataframe thead th {\n",
       "        text-align: right;\n",
       "    }\n",
       "</style>\n",
       "<table border=\"1\" class=\"dataframe\">\n",
       "  <thead>\n",
       "    <tr style=\"text-align: right;\">\n",
       "      <th></th>\n",
       "      <th>PassengerId</th>\n",
       "      <th>Survived</th>\n",
       "      <th>Pclass</th>\n",
       "      <th>Name</th>\n",
       "      <th>Sex</th>\n",
       "      <th>Age</th>\n",
       "      <th>SibSp</th>\n",
       "      <th>Parch</th>\n",
       "      <th>Ticket</th>\n",
       "      <th>Fare</th>\n",
       "      <th>Cabin</th>\n",
       "      <th>Embarked</th>\n",
       "    </tr>\n",
       "  </thead>\n",
       "  <tbody>\n",
       "    <tr>\n",
       "      <th>0</th>\n",
       "      <td>1</td>\n",
       "      <td>0</td>\n",
       "      <td>3</td>\n",
       "      <td>Braund, Mr. Owen Harris</td>\n",
       "      <td>male</td>\n",
       "      <td>22.0</td>\n",
       "      <td>1</td>\n",
       "      <td>0</td>\n",
       "      <td>A/5 21171</td>\n",
       "      <td>7.2500</td>\n",
       "      <td>NaN</td>\n",
       "      <td>S</td>\n",
       "    </tr>\n",
       "    <tr>\n",
       "      <th>1</th>\n",
       "      <td>2</td>\n",
       "      <td>1</td>\n",
       "      <td>1</td>\n",
       "      <td>Cumings, Mrs. John Bradley (Florence Briggs Th...</td>\n",
       "      <td>female</td>\n",
       "      <td>38.0</td>\n",
       "      <td>1</td>\n",
       "      <td>0</td>\n",
       "      <td>PC 17599</td>\n",
       "      <td>71.2833</td>\n",
       "      <td>C85</td>\n",
       "      <td>C</td>\n",
       "    </tr>\n",
       "    <tr>\n",
       "      <th>2</th>\n",
       "      <td>3</td>\n",
       "      <td>1</td>\n",
       "      <td>3</td>\n",
       "      <td>Heikkinen, Miss. Laina</td>\n",
       "      <td>female</td>\n",
       "      <td>26.0</td>\n",
       "      <td>0</td>\n",
       "      <td>0</td>\n",
       "      <td>STON/O2. 3101282</td>\n",
       "      <td>7.9250</td>\n",
       "      <td>NaN</td>\n",
       "      <td>S</td>\n",
       "    </tr>\n",
       "    <tr>\n",
       "      <th>3</th>\n",
       "      <td>4</td>\n",
       "      <td>1</td>\n",
       "      <td>1</td>\n",
       "      <td>Futrelle, Mrs. Jacques Heath (Lily May Peel)</td>\n",
       "      <td>female</td>\n",
       "      <td>35.0</td>\n",
       "      <td>1</td>\n",
       "      <td>0</td>\n",
       "      <td>113803</td>\n",
       "      <td>53.1000</td>\n",
       "      <td>C123</td>\n",
       "      <td>S</td>\n",
       "    </tr>\n",
       "    <tr>\n",
       "      <th>4</th>\n",
       "      <td>5</td>\n",
       "      <td>0</td>\n",
       "      <td>3</td>\n",
       "      <td>Allen, Mr. William Henry</td>\n",
       "      <td>male</td>\n",
       "      <td>35.0</td>\n",
       "      <td>0</td>\n",
       "      <td>0</td>\n",
       "      <td>373450</td>\n",
       "      <td>8.0500</td>\n",
       "      <td>NaN</td>\n",
       "      <td>S</td>\n",
       "    </tr>\n",
       "  </tbody>\n",
       "</table>\n",
       "</div>"
      ],
      "text/plain": [
       "   PassengerId  Survived  Pclass  \\\n",
       "0            1         0       3   \n",
       "1            2         1       1   \n",
       "2            3         1       3   \n",
       "3            4         1       1   \n",
       "4            5         0       3   \n",
       "\n",
       "                                                Name     Sex   Age  SibSp  \\\n",
       "0                            Braund, Mr. Owen Harris    male  22.0      1   \n",
       "1  Cumings, Mrs. John Bradley (Florence Briggs Th...  female  38.0      1   \n",
       "2                             Heikkinen, Miss. Laina  female  26.0      0   \n",
       "3       Futrelle, Mrs. Jacques Heath (Lily May Peel)  female  35.0      1   \n",
       "4                           Allen, Mr. William Henry    male  35.0      0   \n",
       "\n",
       "   Parch            Ticket     Fare Cabin Embarked  \n",
       "0      0         A/5 21171   7.2500   NaN        S  \n",
       "1      0          PC 17599  71.2833   C85        C  \n",
       "2      0  STON/O2. 3101282   7.9250   NaN        S  \n",
       "3      0            113803  53.1000  C123        S  \n",
       "4      0            373450   8.0500   NaN        S  "
      ]
     },
     "execution_count": 3,
     "metadata": {},
     "output_type": "execute_result"
    }
   ],
   "source": [
    "df.head()"
   ]
  },
  {
   "cell_type": "code",
   "execution_count": 4,
   "id": "381711cc",
   "metadata": {
    "execution": {
     "iopub.execute_input": "2022-03-15T00:24:54.645447Z",
     "iopub.status.busy": "2022-03-15T00:24:54.644801Z",
     "iopub.status.idle": "2022-03-15T00:24:54.649196Z",
     "shell.execute_reply": "2022-03-15T00:24:54.649690Z",
     "shell.execute_reply.started": "2022-03-15T00:24:03.950148Z"
    },
    "papermill": {
     "duration": 0.058122,
     "end_time": "2022-03-15T00:24:54.649860",
     "exception": false,
     "start_time": "2022-03-15T00:24:54.591738",
     "status": "completed"
    },
    "tags": []
   },
   "outputs": [
    {
     "data": {
      "text/plain": [
       "(891, 12)"
      ]
     },
     "execution_count": 4,
     "metadata": {},
     "output_type": "execute_result"
    }
   ],
   "source": [
    "df.shape"
   ]
  },
  {
   "cell_type": "code",
   "execution_count": 5,
   "id": "25212662",
   "metadata": {
    "execution": {
     "iopub.execute_input": "2022-03-15T00:24:54.753107Z",
     "iopub.status.busy": "2022-03-15T00:24:54.752421Z",
     "iopub.status.idle": "2022-03-15T00:24:54.777245Z",
     "shell.execute_reply": "2022-03-15T00:24:54.777924Z",
     "shell.execute_reply.started": "2022-03-15T00:24:03.961251Z"
    },
    "papermill": {
     "duration": 0.078242,
     "end_time": "2022-03-15T00:24:54.778190",
     "exception": false,
     "start_time": "2022-03-15T00:24:54.699948",
     "status": "completed"
    },
    "tags": []
   },
   "outputs": [
    {
     "name": "stdout",
     "output_type": "stream",
     "text": [
      "<class 'pandas.core.frame.DataFrame'>\n",
      "RangeIndex: 891 entries, 0 to 890\n",
      "Data columns (total 12 columns):\n",
      " #   Column       Non-Null Count  Dtype  \n",
      "---  ------       --------------  -----  \n",
      " 0   PassengerId  891 non-null    int64  \n",
      " 1   Survived     891 non-null    int64  \n",
      " 2   Pclass       891 non-null    int64  \n",
      " 3   Name         891 non-null    object \n",
      " 4   Sex          891 non-null    object \n",
      " 5   Age          714 non-null    float64\n",
      " 6   SibSp        891 non-null    int64  \n",
      " 7   Parch        891 non-null    int64  \n",
      " 8   Ticket       891 non-null    object \n",
      " 9   Fare         891 non-null    float64\n",
      " 10  Cabin        204 non-null    object \n",
      " 11  Embarked     889 non-null    object \n",
      "dtypes: float64(2), int64(5), object(5)\n",
      "memory usage: 83.7+ KB\n"
     ]
    }
   ],
   "source": [
    "df.info()"
   ]
  },
  {
   "cell_type": "code",
   "execution_count": 6,
   "id": "eab3c866",
   "metadata": {
    "execution": {
     "iopub.execute_input": "2022-03-15T00:24:54.884357Z",
     "iopub.status.busy": "2022-03-15T00:24:54.883685Z",
     "iopub.status.idle": "2022-03-15T00:24:54.892202Z",
     "shell.execute_reply": "2022-03-15T00:24:54.892730Z",
     "shell.execute_reply.started": "2022-03-15T00:24:03.986198Z"
    },
    "papermill": {
     "duration": 0.062726,
     "end_time": "2022-03-15T00:24:54.892907",
     "exception": false,
     "start_time": "2022-03-15T00:24:54.830181",
     "status": "completed"
    },
    "tags": []
   },
   "outputs": [
    {
     "data": {
      "text/plain": [
       "PassengerId      0\n",
       "Survived         0\n",
       "Pclass           0\n",
       "Name             0\n",
       "Sex              0\n",
       "Age            177\n",
       "SibSp            0\n",
       "Parch            0\n",
       "Ticket           0\n",
       "Fare             0\n",
       "Cabin          687\n",
       "Embarked         2\n",
       "dtype: int64"
      ]
     },
     "execution_count": 6,
     "metadata": {},
     "output_type": "execute_result"
    }
   ],
   "source": [
    "df.isnull().sum()"
   ]
  },
  {
   "cell_type": "code",
   "execution_count": 7,
   "id": "5af169a2",
   "metadata": {
    "execution": {
     "iopub.execute_input": "2022-03-15T00:24:54.997896Z",
     "iopub.status.busy": "2022-03-15T00:24:54.997281Z",
     "iopub.status.idle": "2022-03-15T00:24:55.003310Z",
     "shell.execute_reply": "2022-03-15T00:24:55.003839Z",
     "shell.execute_reply.started": "2022-03-15T00:24:04.008865Z"
    },
    "papermill": {
     "duration": 0.06057,
     "end_time": "2022-03-15T00:24:55.004034",
     "exception": false,
     "start_time": "2022-03-15T00:24:54.943464",
     "status": "completed"
    },
    "tags": []
   },
   "outputs": [],
   "source": [
    "mean_value=df['Age'].mean()\n",
    "df['Age'].fillna(value=mean_value, inplace=True)\n",
    "df['Embarked'].fillna(value='U',inplace=True)"
   ]
  },
  {
   "cell_type": "code",
   "execution_count": 8,
   "id": "f98124a7",
   "metadata": {
    "execution": {
     "iopub.execute_input": "2022-03-15T00:24:55.109599Z",
     "iopub.status.busy": "2022-03-15T00:24:55.108969Z",
     "iopub.status.idle": "2022-03-15T00:24:55.126818Z",
     "shell.execute_reply": "2022-03-15T00:24:55.127319Z",
     "shell.execute_reply.started": "2022-03-15T00:24:04.019622Z"
    },
    "papermill": {
     "duration": 0.072079,
     "end_time": "2022-03-15T00:24:55.127512",
     "exception": false,
     "start_time": "2022-03-15T00:24:55.055433",
     "status": "completed"
    },
    "tags": []
   },
   "outputs": [
    {
     "data": {
      "text/html": [
       "<div>\n",
       "<style scoped>\n",
       "    .dataframe tbody tr th:only-of-type {\n",
       "        vertical-align: middle;\n",
       "    }\n",
       "\n",
       "    .dataframe tbody tr th {\n",
       "        vertical-align: top;\n",
       "    }\n",
       "\n",
       "    .dataframe thead th {\n",
       "        text-align: right;\n",
       "    }\n",
       "</style>\n",
       "<table border=\"1\" class=\"dataframe\">\n",
       "  <thead>\n",
       "    <tr style=\"text-align: right;\">\n",
       "      <th></th>\n",
       "      <th>PassengerId</th>\n",
       "      <th>Survived</th>\n",
       "      <th>Pclass</th>\n",
       "      <th>Name</th>\n",
       "      <th>Sex</th>\n",
       "      <th>Age</th>\n",
       "      <th>SibSp</th>\n",
       "      <th>Parch</th>\n",
       "      <th>Ticket</th>\n",
       "      <th>Fare</th>\n",
       "      <th>Cabin</th>\n",
       "      <th>Embarked</th>\n",
       "    </tr>\n",
       "  </thead>\n",
       "  <tbody>\n",
       "    <tr>\n",
       "      <th>0</th>\n",
       "      <td>1</td>\n",
       "      <td>0</td>\n",
       "      <td>3</td>\n",
       "      <td>Braund, Mr. Owen Harris</td>\n",
       "      <td>1</td>\n",
       "      <td>22.0</td>\n",
       "      <td>1</td>\n",
       "      <td>0</td>\n",
       "      <td>A/5 21171</td>\n",
       "      <td>7.2500</td>\n",
       "      <td>NaN</td>\n",
       "      <td>S</td>\n",
       "    </tr>\n",
       "    <tr>\n",
       "      <th>1</th>\n",
       "      <td>2</td>\n",
       "      <td>1</td>\n",
       "      <td>1</td>\n",
       "      <td>Cumings, Mrs. John Bradley (Florence Briggs Th...</td>\n",
       "      <td>0</td>\n",
       "      <td>38.0</td>\n",
       "      <td>1</td>\n",
       "      <td>0</td>\n",
       "      <td>PC 17599</td>\n",
       "      <td>71.2833</td>\n",
       "      <td>C85</td>\n",
       "      <td>C</td>\n",
       "    </tr>\n",
       "    <tr>\n",
       "      <th>2</th>\n",
       "      <td>3</td>\n",
       "      <td>1</td>\n",
       "      <td>3</td>\n",
       "      <td>Heikkinen, Miss. Laina</td>\n",
       "      <td>0</td>\n",
       "      <td>26.0</td>\n",
       "      <td>0</td>\n",
       "      <td>0</td>\n",
       "      <td>STON/O2. 3101282</td>\n",
       "      <td>7.9250</td>\n",
       "      <td>NaN</td>\n",
       "      <td>S</td>\n",
       "    </tr>\n",
       "    <tr>\n",
       "      <th>3</th>\n",
       "      <td>4</td>\n",
       "      <td>1</td>\n",
       "      <td>1</td>\n",
       "      <td>Futrelle, Mrs. Jacques Heath (Lily May Peel)</td>\n",
       "      <td>0</td>\n",
       "      <td>35.0</td>\n",
       "      <td>1</td>\n",
       "      <td>0</td>\n",
       "      <td>113803</td>\n",
       "      <td>53.1000</td>\n",
       "      <td>C123</td>\n",
       "      <td>S</td>\n",
       "    </tr>\n",
       "    <tr>\n",
       "      <th>4</th>\n",
       "      <td>5</td>\n",
       "      <td>0</td>\n",
       "      <td>3</td>\n",
       "      <td>Allen, Mr. William Henry</td>\n",
       "      <td>1</td>\n",
       "      <td>35.0</td>\n",
       "      <td>0</td>\n",
       "      <td>0</td>\n",
       "      <td>373450</td>\n",
       "      <td>8.0500</td>\n",
       "      <td>NaN</td>\n",
       "      <td>S</td>\n",
       "    </tr>\n",
       "  </tbody>\n",
       "</table>\n",
       "</div>"
      ],
      "text/plain": [
       "   PassengerId  Survived  Pclass  \\\n",
       "0            1         0       3   \n",
       "1            2         1       1   \n",
       "2            3         1       3   \n",
       "3            4         1       1   \n",
       "4            5         0       3   \n",
       "\n",
       "                                                Name  Sex   Age  SibSp  Parch  \\\n",
       "0                            Braund, Mr. Owen Harris    1  22.0      1      0   \n",
       "1  Cumings, Mrs. John Bradley (Florence Briggs Th...    0  38.0      1      0   \n",
       "2                             Heikkinen, Miss. Laina    0  26.0      0      0   \n",
       "3       Futrelle, Mrs. Jacques Heath (Lily May Peel)    0  35.0      1      0   \n",
       "4                           Allen, Mr. William Henry    1  35.0      0      0   \n",
       "\n",
       "             Ticket     Fare Cabin Embarked  \n",
       "0         A/5 21171   7.2500   NaN        S  \n",
       "1          PC 17599  71.2833   C85        C  \n",
       "2  STON/O2. 3101282   7.9250   NaN        S  \n",
       "3            113803  53.1000  C123        S  \n",
       "4            373450   8.0500   NaN        S  "
      ]
     },
     "execution_count": 8,
     "metadata": {},
     "output_type": "execute_result"
    }
   ],
   "source": [
    "genders=[\"female\", \"male\"]\n",
    "gender=[0,1]\n",
    "df['Sex'] = df['Sex'].replace(genders, gender)\n",
    "df.head()"
   ]
  },
  {
   "cell_type": "code",
   "execution_count": 9,
   "id": "e58a2eb6",
   "metadata": {
    "execution": {
     "iopub.execute_input": "2022-03-15T00:24:55.234881Z",
     "iopub.status.busy": "2022-03-15T00:24:55.233848Z",
     "iopub.status.idle": "2022-03-15T00:24:55.242422Z",
     "shell.execute_reply": "2022-03-15T00:24:55.242985Z",
     "shell.execute_reply.started": "2022-03-15T00:24:04.052621Z"
    },
    "papermill": {
     "duration": 0.063956,
     "end_time": "2022-03-15T00:24:55.243179",
     "exception": false,
     "start_time": "2022-03-15T00:24:55.179223",
     "status": "completed"
    },
    "tags": []
   },
   "outputs": [
    {
     "data": {
      "text/plain": [
       "array([2, 0, 1, 3])"
      ]
     },
     "execution_count": 9,
     "metadata": {},
     "output_type": "execute_result"
    }
   ],
   "source": [
    "# Import label encoder\n",
    "from sklearn import preprocessing\n",
    "\n",
    "# label_encoder object knows how to understand word labels.\n",
    "label_encoder = preprocessing.LabelEncoder()\n",
    "\n",
    "# Encode labels in column 'species'.\n",
    "df['Embarked']= label_encoder.fit_transform(df['Embarked'])\n",
    "\n",
    "df['Embarked'].unique()\n"
   ]
  },
  {
   "cell_type": "code",
   "execution_count": 10,
   "id": "fef6f117",
   "metadata": {
    "execution": {
     "iopub.execute_input": "2022-03-15T00:24:55.352273Z",
     "iopub.status.busy": "2022-03-15T00:24:55.351637Z",
     "iopub.status.idle": "2022-03-15T00:24:55.366925Z",
     "shell.execute_reply": "2022-03-15T00:24:55.367527Z",
     "shell.execute_reply.started": "2022-03-15T00:24:04.068354Z"
    },
    "papermill": {
     "duration": 0.070528,
     "end_time": "2022-03-15T00:24:55.367702",
     "exception": false,
     "start_time": "2022-03-15T00:24:55.297174",
     "status": "completed"
    },
    "tags": []
   },
   "outputs": [
    {
     "data": {
      "text/html": [
       "<div>\n",
       "<style scoped>\n",
       "    .dataframe tbody tr th:only-of-type {\n",
       "        vertical-align: middle;\n",
       "    }\n",
       "\n",
       "    .dataframe tbody tr th {\n",
       "        vertical-align: top;\n",
       "    }\n",
       "\n",
       "    .dataframe thead th {\n",
       "        text-align: right;\n",
       "    }\n",
       "</style>\n",
       "<table border=\"1\" class=\"dataframe\">\n",
       "  <thead>\n",
       "    <tr style=\"text-align: right;\">\n",
       "      <th></th>\n",
       "      <th>PassengerId</th>\n",
       "      <th>Survived</th>\n",
       "      <th>Pclass</th>\n",
       "      <th>Name</th>\n",
       "      <th>Sex</th>\n",
       "      <th>Age</th>\n",
       "      <th>SibSp</th>\n",
       "      <th>Parch</th>\n",
       "      <th>Ticket</th>\n",
       "      <th>Fare</th>\n",
       "      <th>Cabin</th>\n",
       "      <th>Embarked</th>\n",
       "    </tr>\n",
       "  </thead>\n",
       "  <tbody>\n",
       "    <tr>\n",
       "      <th>0</th>\n",
       "      <td>1</td>\n",
       "      <td>0</td>\n",
       "      <td>3</td>\n",
       "      <td>Braund, Mr. Owen Harris</td>\n",
       "      <td>1</td>\n",
       "      <td>22.0</td>\n",
       "      <td>1</td>\n",
       "      <td>0</td>\n",
       "      <td>A/5 21171</td>\n",
       "      <td>7.2500</td>\n",
       "      <td>NaN</td>\n",
       "      <td>2</td>\n",
       "    </tr>\n",
       "    <tr>\n",
       "      <th>1</th>\n",
       "      <td>2</td>\n",
       "      <td>1</td>\n",
       "      <td>1</td>\n",
       "      <td>Cumings, Mrs. John Bradley (Florence Briggs Th...</td>\n",
       "      <td>0</td>\n",
       "      <td>38.0</td>\n",
       "      <td>1</td>\n",
       "      <td>0</td>\n",
       "      <td>PC 17599</td>\n",
       "      <td>71.2833</td>\n",
       "      <td>C85</td>\n",
       "      <td>0</td>\n",
       "    </tr>\n",
       "    <tr>\n",
       "      <th>2</th>\n",
       "      <td>3</td>\n",
       "      <td>1</td>\n",
       "      <td>3</td>\n",
       "      <td>Heikkinen, Miss. Laina</td>\n",
       "      <td>0</td>\n",
       "      <td>26.0</td>\n",
       "      <td>0</td>\n",
       "      <td>0</td>\n",
       "      <td>STON/O2. 3101282</td>\n",
       "      <td>7.9250</td>\n",
       "      <td>NaN</td>\n",
       "      <td>2</td>\n",
       "    </tr>\n",
       "    <tr>\n",
       "      <th>3</th>\n",
       "      <td>4</td>\n",
       "      <td>1</td>\n",
       "      <td>1</td>\n",
       "      <td>Futrelle, Mrs. Jacques Heath (Lily May Peel)</td>\n",
       "      <td>0</td>\n",
       "      <td>35.0</td>\n",
       "      <td>1</td>\n",
       "      <td>0</td>\n",
       "      <td>113803</td>\n",
       "      <td>53.1000</td>\n",
       "      <td>C123</td>\n",
       "      <td>2</td>\n",
       "    </tr>\n",
       "    <tr>\n",
       "      <th>4</th>\n",
       "      <td>5</td>\n",
       "      <td>0</td>\n",
       "      <td>3</td>\n",
       "      <td>Allen, Mr. William Henry</td>\n",
       "      <td>1</td>\n",
       "      <td>35.0</td>\n",
       "      <td>0</td>\n",
       "      <td>0</td>\n",
       "      <td>373450</td>\n",
       "      <td>8.0500</td>\n",
       "      <td>NaN</td>\n",
       "      <td>2</td>\n",
       "    </tr>\n",
       "  </tbody>\n",
       "</table>\n",
       "</div>"
      ],
      "text/plain": [
       "   PassengerId  Survived  Pclass  \\\n",
       "0            1         0       3   \n",
       "1            2         1       1   \n",
       "2            3         1       3   \n",
       "3            4         1       1   \n",
       "4            5         0       3   \n",
       "\n",
       "                                                Name  Sex   Age  SibSp  Parch  \\\n",
       "0                            Braund, Mr. Owen Harris    1  22.0      1      0   \n",
       "1  Cumings, Mrs. John Bradley (Florence Briggs Th...    0  38.0      1      0   \n",
       "2                             Heikkinen, Miss. Laina    0  26.0      0      0   \n",
       "3       Futrelle, Mrs. Jacques Heath (Lily May Peel)    0  35.0      1      0   \n",
       "4                           Allen, Mr. William Henry    1  35.0      0      0   \n",
       "\n",
       "             Ticket     Fare Cabin  Embarked  \n",
       "0         A/5 21171   7.2500   NaN         2  \n",
       "1          PC 17599  71.2833   C85         0  \n",
       "2  STON/O2. 3101282   7.9250   NaN         2  \n",
       "3            113803  53.1000  C123         2  \n",
       "4            373450   8.0500   NaN         2  "
      ]
     },
     "execution_count": 10,
     "metadata": {},
     "output_type": "execute_result"
    }
   ],
   "source": [
    "df.head()"
   ]
  },
  {
   "cell_type": "code",
   "execution_count": 11,
   "id": "8ced47ae",
   "metadata": {
    "execution": {
     "iopub.execute_input": "2022-03-15T00:24:55.477447Z",
     "iopub.status.busy": "2022-03-15T00:24:55.476544Z",
     "iopub.status.idle": "2022-03-15T00:24:55.484699Z",
     "shell.execute_reply": "2022-03-15T00:24:55.485293Z",
     "shell.execute_reply.started": "2022-03-15T00:24:04.098483Z"
    },
    "papermill": {
     "duration": 0.064792,
     "end_time": "2022-03-15T00:24:55.485474",
     "exception": false,
     "start_time": "2022-03-15T00:24:55.420682",
     "status": "completed"
    },
    "tags": []
   },
   "outputs": [
    {
     "data": {
      "text/plain": [
       "PassengerId      0\n",
       "Survived         0\n",
       "Pclass           0\n",
       "Name             0\n",
       "Sex              0\n",
       "Age              0\n",
       "SibSp            0\n",
       "Parch            0\n",
       "Ticket           0\n",
       "Fare             0\n",
       "Cabin          687\n",
       "Embarked         0\n",
       "dtype: int64"
      ]
     },
     "execution_count": 11,
     "metadata": {},
     "output_type": "execute_result"
    }
   ],
   "source": [
    "df.isnull().sum()"
   ]
  },
  {
   "cell_type": "code",
   "execution_count": 12,
   "id": "da3c3e23",
   "metadata": {
    "execution": {
     "iopub.execute_input": "2022-03-15T00:24:55.595766Z",
     "iopub.status.busy": "2022-03-15T00:24:55.595125Z",
     "iopub.status.idle": "2022-03-15T00:24:56.170413Z",
     "shell.execute_reply": "2022-03-15T00:24:56.170920Z",
     "shell.execute_reply.started": "2022-03-15T00:24:04.116042Z"
    },
    "papermill": {
     "duration": 0.6318,
     "end_time": "2022-03-15T00:24:56.171117",
     "exception": false,
     "start_time": "2022-03-15T00:24:55.539317",
     "status": "completed"
    },
    "tags": []
   },
   "outputs": [
    {
     "data": {
      "text/plain": [
       "<AxesSubplot:>"
      ]
     },
     "execution_count": 12,
     "metadata": {},
     "output_type": "execute_result"
    },
    {
     "data": {
      "image/png": "[encoded data removed]",
      "text/plain": [
       "<Figure size 1080x1080 with 2 Axes>"
      ]
     },
     "metadata": {},
     "output_type": "display_data"
    }
   ],
   "source": [
    "sns.set_theme(style=\"white\")\n",
    "\n",
    "corr = df.corr()\n",
    "mask = np.triu(np.ones_like(corr, dtype=bool))\n",
    "\n",
    "f, ax = plt.subplots(figsize=(15, 15))\n",
    "cmap = sns.diverging_palette(230, 20)\n",
    "\n",
    "sns.heatmap(corr, mask=mask, center=0, annot=True,\n",
    "            square=True, linewidths=.3,cbar_kws={\"shrink\": 0.5})\n",
    "\n",
    "\n",
    "\n",
    "\n",
    "\n",
    "\n",
    "\n",
    "\n",
    "\n",
    "\n",
    "\n",
    "\n",
    "\n",
    "\n"
   ]
  },
  {
   "cell_type": "code",
   "execution_count": 13,
   "id": "e68d17b2",
   "metadata": {
    "execution": {
     "iopub.execute_input": "2022-03-15T00:24:56.285657Z",
     "iopub.status.busy": "2022-03-15T00:24:56.285043Z",
     "iopub.status.idle": "2022-03-15T00:24:56.291757Z",
     "shell.execute_reply": "2022-03-15T00:24:56.292371Z",
     "shell.execute_reply.started": "2022-03-15T00:24:04.706383Z"
    },
    "papermill": {
     "duration": 0.065823,
     "end_time": "2022-03-15T00:24:56.292552",
     "exception": false,
     "start_time": "2022-03-15T00:24:56.226729",
     "status": "completed"
    },
    "tags": []
   },
   "outputs": [],
   "source": [
    "df.drop(['PassengerId','Cabin','Ticket','Name','SibSp','Age','Parch'],axis=1,inplace=True)\n"
   ]
  },
  {
   "cell_type": "code",
   "execution_count": 14,
   "id": "677f173a",
   "metadata": {
    "execution": {
     "iopub.execute_input": "2022-03-15T00:24:56.406922Z",
     "iopub.status.busy": "2022-03-15T00:24:56.406285Z",
     "iopub.status.idle": "2022-03-15T00:24:56.415787Z",
     "shell.execute_reply": "2022-03-15T00:24:56.416391Z",
     "shell.execute_reply.started": "2022-03-15T00:24:04.715501Z"
    },
    "papermill": {
     "duration": 0.068428,
     "end_time": "2022-03-15T00:24:56.416563",
     "exception": false,
     "start_time": "2022-03-15T00:24:56.348135",
     "status": "completed"
    },
    "tags": []
   },
   "outputs": [
    {
     "data": {
      "text/html": [
       "<div>\n",
       "<style scoped>\n",
       "    .dataframe tbody tr th:only-of-type {\n",
       "        vertical-align: middle;\n",
       "    }\n",
       "\n",
       "    .dataframe tbody tr th {\n",
       "        vertical-align: top;\n",
       "    }\n",
       "\n",
       "    .dataframe thead th {\n",
       "        text-align: right;\n",
       "    }\n",
       "</style>\n",
       "<table border=\"1\" class=\"dataframe\">\n",
       "  <thead>\n",
       "    <tr style=\"text-align: right;\">\n",
       "      <th></th>\n",
       "      <th>Survived</th>\n",
       "      <th>Pclass</th>\n",
       "      <th>Sex</th>\n",
       "      <th>Fare</th>\n",
       "      <th>Embarked</th>\n",
       "    </tr>\n",
       "  </thead>\n",
       "  <tbody>\n",
       "    <tr>\n",
       "      <th>0</th>\n",
       "      <td>0</td>\n",
       "      <td>3</td>\n",
       "      <td>1</td>\n",
       "      <td>7.2500</td>\n",
       "      <td>2</td>\n",
       "    </tr>\n",
       "    <tr>\n",
       "      <th>1</th>\n",
       "      <td>1</td>\n",
       "      <td>1</td>\n",
       "      <td>0</td>\n",
       "      <td>71.2833</td>\n",
       "      <td>0</td>\n",
       "    </tr>\n",
       "    <tr>\n",
       "      <th>2</th>\n",
       "      <td>1</td>\n",
       "      <td>3</td>\n",
       "      <td>0</td>\n",
       "      <td>7.9250</td>\n",
       "      <td>2</td>\n",
       "    </tr>\n",
       "    <tr>\n",
       "      <th>3</th>\n",
       "      <td>1</td>\n",
       "      <td>1</td>\n",
       "      <td>0</td>\n",
       "      <td>53.1000</td>\n",
       "      <td>2</td>\n",
       "    </tr>\n",
       "    <tr>\n",
       "      <th>4</th>\n",
       "      <td>0</td>\n",
       "      <td>3</td>\n",
       "      <td>1</td>\n",
       "      <td>8.0500</td>\n",
       "      <td>2</td>\n",
       "    </tr>\n",
       "  </tbody>\n",
       "</table>\n",
       "</div>"
      ],
      "text/plain": [
       "   Survived  Pclass  Sex     Fare  Embarked\n",
       "0         0       3    1   7.2500         2\n",
       "1         1       1    0  71.2833         0\n",
       "2         1       3    0   7.9250         2\n",
       "3         1       1    0  53.1000         2\n",
       "4         0       3    1   8.0500         2"
      ]
     },
     "execution_count": 14,
     "metadata": {},
     "output_type": "execute_result"
    }
   ],
   "source": [
    "df.head()"
   ]
  },
  {
   "cell_type": "code",
   "execution_count": 15,
   "id": "1f1a3b35",
   "metadata": {
    "execution": {
     "iopub.execute_input": "2022-03-15T00:24:56.531815Z",
     "iopub.status.busy": "2022-03-15T00:24:56.531212Z",
     "iopub.status.idle": "2022-03-15T00:24:56.538587Z",
     "shell.execute_reply": "2022-03-15T00:24:56.539143Z",
     "shell.execute_reply.started": "2022-03-15T00:24:04.733501Z"
    },
    "papermill": {
     "duration": 0.066845,
     "end_time": "2022-03-15T00:24:56.539321",
     "exception": false,
     "start_time": "2022-03-15T00:24:56.472476",
     "status": "completed"
    },
    "tags": []
   },
   "outputs": [
    {
     "data": {
      "text/plain": [
       "Survived    0\n",
       "Pclass      0\n",
       "Sex         0\n",
       "Fare        0\n",
       "Embarked    0\n",
       "dtype: int64"
      ]
     },
     "execution_count": 15,
     "metadata": {},
     "output_type": "execute_result"
    }
   ],
   "source": [
    "df.isnull().sum()"
   ]
  },
  {
   "cell_type": "code",
   "execution_count": 16,
   "id": "6c618003",
   "metadata": {
    "execution": {
     "iopub.execute_input": "2022-03-15T00:24:56.654683Z",
     "iopub.status.busy": "2022-03-15T00:24:56.654063Z",
     "iopub.status.idle": "2022-03-15T00:24:56.660882Z",
     "shell.execute_reply": "2022-03-15T00:24:56.661509Z",
     "shell.execute_reply.started": "2022-03-15T00:24:04.744528Z"
    },
    "papermill": {
     "duration": 0.066211,
     "end_time": "2022-03-15T00:24:56.661679",
     "exception": false,
     "start_time": "2022-03-15T00:24:56.595468",
     "status": "completed"
    },
    "tags": []
   },
   "outputs": [
    {
     "data": {
      "text/plain": [
       "1    577\n",
       "0    314\n",
       "Name: Sex, dtype: int64"
      ]
     },
     "execution_count": 16,
     "metadata": {},
     "output_type": "execute_result"
    }
   ],
   "source": [
    "df[\"Sex\"].value_counts()"
   ]
  },
  {
   "cell_type": "code",
   "execution_count": 17,
   "id": "8a089658",
   "metadata": {
    "execution": {
     "iopub.execute_input": "2022-03-15T00:24:56.779736Z",
     "iopub.status.busy": "2022-03-15T00:24:56.778698Z",
     "iopub.status.idle": "2022-03-15T00:24:56.785642Z",
     "shell.execute_reply": "2022-03-15T00:24:56.785130Z",
     "shell.execute_reply.started": "2022-03-15T00:24:04.757758Z"
    },
    "papermill": {
     "duration": 0.067461,
     "end_time": "2022-03-15T00:24:56.785787",
     "exception": false,
     "start_time": "2022-03-15T00:24:56.718326",
     "status": "completed"
    },
    "tags": []
   },
   "outputs": [
    {
     "name": "stdout",
     "output_type": "stream",
     "text": [
      "60%\n"
     ]
    }
   ],
   "source": [
    "def percentage(part, whole):\n",
    "  percentage = round(100 * float(part)/float(whole))\n",
    "  return str(percentage) + \"%\"\n",
    "\n",
    "print(percentage(3, 5))"
   ]
  },
  {
   "cell_type": "code",
   "execution_count": 18,
   "id": "3389010d",
   "metadata": {
    "execution": {
     "iopub.execute_input": "2022-03-15T00:24:56.906969Z",
     "iopub.status.busy": "2022-03-15T00:24:56.906330Z",
     "iopub.status.idle": "2022-03-15T00:24:56.908179Z",
     "shell.execute_reply": "2022-03-15T00:24:56.908659Z",
     "shell.execute_reply.started": "2022-03-15T00:24:04.771030Z"
    },
    "papermill": {
     "duration": 0.065558,
     "end_time": "2022-03-15T00:24:56.908824",
     "exception": false,
     "start_time": "2022-03-15T00:24:56.843266",
     "status": "completed"
    },
    "tags": []
   },
   "outputs": [],
   "source": [
    "male_perc=percentage(577,891)\n",
    "female_perc=percentage(314,891)"
   ]
  },
  {
   "cell_type": "code",
   "execution_count": 19,
   "id": "7329dcb8",
   "metadata": {
    "execution": {
     "iopub.execute_input": "2022-03-15T00:24:57.026756Z",
     "iopub.status.busy": "2022-03-15T00:24:57.026104Z",
     "iopub.status.idle": "2022-03-15T00:24:57.031490Z",
     "shell.execute_reply": "2022-03-15T00:24:57.032553Z",
     "shell.execute_reply.started": "2022-03-15T00:24:04.785213Z"
    },
    "papermill": {
     "duration": 0.066695,
     "end_time": "2022-03-15T00:24:57.032863",
     "exception": false,
     "start_time": "2022-03-15T00:24:56.966168",
     "status": "completed"
    },
    "tags": []
   },
   "outputs": [
    {
     "name": "stdout",
     "output_type": "stream",
     "text": [
      "Male percentage : 65%\n",
      "Female percentage : 35%\n"
     ]
    }
   ],
   "source": [
    "print('Male percentage :', male_perc)\n",
    "print('Female percentage :', female_perc)"
   ]
  },
  {
   "cell_type": "code",
   "execution_count": 20,
   "id": "b936636a",
   "metadata": {
    "execution": {
     "iopub.execute_input": "2022-03-15T00:24:57.172505Z",
     "iopub.status.busy": "2022-03-15T00:24:57.151953Z",
     "iopub.status.idle": "2022-03-15T00:24:57.258306Z",
     "shell.execute_reply": "2022-03-15T00:24:57.257325Z",
     "shell.execute_reply.started": "2022-03-15T00:24:04.796349Z"
    },
    "papermill": {
     "duration": 0.166874,
     "end_time": "2022-03-15T00:24:57.258564",
     "exception": false,
     "start_time": "2022-03-15T00:24:57.091690",
     "status": "completed"
    },
    "tags": []
   },
   "outputs": [
    {
     "data": {
      "image/png": "[encoded data removed]",
      "text/plain": [
       "<Figure size 432x288 with 1 Axes>"
      ]
     },
     "metadata": {},
     "output_type": "display_data"
    }
   ],
   "source": [
    "y = np.array([577, 314])\n",
    "mylabels = [\"65% Male\", \"35% Female\"]\n",
    "mycolors = [\"blue\", \"pink\"]\n",
    "plt.pie(y, labels = mylabels)\n",
    "\n",
    "plt.show() "
   ]
  },
  {
   "cell_type": "code",
   "execution_count": 21,
   "id": "80b0b58a",
   "metadata": {
    "execution": {
     "iopub.execute_input": "2022-03-15T00:24:57.423379Z",
     "iopub.status.busy": "2022-03-15T00:24:57.422721Z",
     "iopub.status.idle": "2022-03-15T00:24:57.429263Z",
     "shell.execute_reply": "2022-03-15T00:24:57.429813Z",
     "shell.execute_reply.started": "2022-03-15T00:24:04.876624Z"
    },
    "papermill": {
     "duration": 0.069453,
     "end_time": "2022-03-15T00:24:57.430001",
     "exception": false,
     "start_time": "2022-03-15T00:24:57.360548",
     "status": "completed"
    },
    "tags": []
   },
   "outputs": [
    {
     "data": {
      "text/plain": [
       "0    549\n",
       "1    342\n",
       "Name: Survived, dtype: int64"
      ]
     },
     "execution_count": 21,
     "metadata": {},
     "output_type": "execute_result"
    }
   ],
   "source": [
    "df[\"Survived\"].value_counts()"
   ]
  },
  {
   "cell_type": "code",
   "execution_count": 22,
   "id": "35cf517d",
   "metadata": {
    "execution": {
     "iopub.execute_input": "2022-03-15T00:24:57.552209Z",
     "iopub.status.busy": "2022-03-15T00:24:57.551311Z",
     "iopub.status.idle": "2022-03-15T00:24:57.556095Z",
     "shell.execute_reply": "2022-03-15T00:24:57.555504Z",
     "shell.execute_reply.started": "2022-03-15T00:24:04.886773Z"
    },
    "papermill": {
     "duration": 0.066692,
     "end_time": "2022-03-15T00:24:57.556250",
     "exception": false,
     "start_time": "2022-03-15T00:24:57.489558",
     "status": "completed"
    },
    "tags": []
   },
   "outputs": [],
   "source": [
    "dead_perc=percentage(549,891)\n",
    "survived_perc=percentage(342,891)"
   ]
  },
  {
   "cell_type": "code",
   "execution_count": 23,
   "id": "15498451",
   "metadata": {
    "execution": {
     "iopub.execute_input": "2022-03-15T00:24:57.680298Z",
     "iopub.status.busy": "2022-03-15T00:24:57.678406Z",
     "iopub.status.idle": "2022-03-15T00:24:57.683801Z",
     "shell.execute_reply": "2022-03-15T00:24:57.683251Z",
     "shell.execute_reply.started": "2022-03-15T00:24:04.899518Z"
    },
    "papermill": {
     "duration": 0.06862,
     "end_time": "2022-03-15T00:24:57.683947",
     "exception": false,
     "start_time": "2022-03-15T00:24:57.615327",
     "status": "completed"
    },
    "tags": []
   },
   "outputs": [
    {
     "name": "stdout",
     "output_type": "stream",
     "text": [
      "Dead percentage : 62%\n",
      "Survived percentage : 38%\n"
     ]
    }
   ],
   "source": [
    "print('Dead percentage :', dead_perc)\n",
    "print('Survived percentage :', survived_perc)"
   ]
  },
  {
   "cell_type": "code",
   "execution_count": 24,
   "id": "afae52dd",
   "metadata": {
    "execution": {
     "iopub.execute_input": "2022-03-15T00:24:57.813083Z",
     "iopub.status.busy": "2022-03-15T00:24:57.812394Z",
     "iopub.status.idle": "2022-03-15T00:24:57.884324Z",
     "shell.execute_reply": "2022-03-15T00:24:57.885239Z",
     "shell.execute_reply.started": "2022-03-15T00:24:04.913515Z"
    },
    "papermill": {
     "duration": 0.142419,
     "end_time": "2022-03-15T00:24:57.885537",
     "exception": false,
     "start_time": "2022-03-15T00:24:57.743118",
     "status": "completed"
    },
    "tags": []
   },
   "outputs": [
    {
     "data": {
      "image/png": "[encoded data removed]",
      "text/plain": [
       "<Figure size 432x288 with 1 Axes>"
      ]
     },
     "metadata": {},
     "output_type": "display_data"
    }
   ],
   "source": [
    "y = np.array([549, 342])\n",
    "mylabels = [\"62% Dead\", \"38 Survived\"]\n",
    "mycolors = [\"black\", \"Green\"]\n",
    "\n",
    "plt.pie(y, labels = mylabels, colors = mycolors)\n",
    "plt.show() "
   ]
  },
  {
   "cell_type": "code",
   "execution_count": 25,
   "id": "4f5ce000",
   "metadata": {
    "execution": {
     "iopub.execute_input": "2022-03-15T00:24:58.028293Z",
     "iopub.status.busy": "2022-03-15T00:24:58.027229Z",
     "iopub.status.idle": "2022-03-15T00:24:58.029126Z",
     "shell.execute_reply": "2022-03-15T00:24:58.029671Z",
     "shell.execute_reply.started": "2022-03-15T00:24:05.002098Z"
    },
    "papermill": {
     "duration": 0.069973,
     "end_time": "2022-03-15T00:24:58.029850",
     "exception": false,
     "start_time": "2022-03-15T00:24:57.959877",
     "status": "completed"
    },
    "tags": []
   },
   "outputs": [],
   "source": [
    "x=df.drop(['Survived'],axis=1)\n",
    "y=df['Survived']"
   ]
  },
  {
   "cell_type": "code",
   "execution_count": 26,
   "id": "e8729de0",
   "metadata": {
    "execution": {
     "iopub.execute_input": "2022-03-15T00:24:58.157628Z",
     "iopub.status.busy": "2022-03-15T00:24:58.154535Z",
     "iopub.status.idle": "2022-03-15T00:24:58.164072Z",
     "shell.execute_reply": "2022-03-15T00:24:58.164620Z",
     "shell.execute_reply.started": "2022-03-15T00:24:05.008768Z"
    },
    "papermill": {
     "duration": 0.074259,
     "end_time": "2022-03-15T00:24:58.164798",
     "exception": false,
     "start_time": "2022-03-15T00:24:58.090539",
     "status": "completed"
    },
    "tags": []
   },
   "outputs": [
    {
     "name": "stdout",
     "output_type": "stream",
     "text": [
      "Train set: (712, 4) (712,)\n",
      "Validation set: (179, 4) (179,)\n"
     ]
    }
   ],
   "source": [
    "X_train, X_test, y_train, y_test = train_test_split(x, y, test_size=0.2, random_state=4)\n",
    "print ('Train set:', X_train.shape,  y_train.shape)\n",
    "print ('Validation set:', X_test.shape,  y_test.shape)"
   ]
  },
  {
   "cell_type": "code",
   "execution_count": 27,
   "id": "3ab984ab",
   "metadata": {
    "execution": {
     "iopub.execute_input": "2022-03-15T00:24:58.292565Z",
     "iopub.status.busy": "2022-03-15T00:24:58.288938Z",
     "iopub.status.idle": "2022-03-15T00:24:58.294699Z",
     "shell.execute_reply": "2022-03-15T00:24:58.295197Z",
     "shell.execute_reply.started": "2022-03-15T00:24:05.025870Z"
    },
    "papermill": {
     "duration": 0.070151,
     "end_time": "2022-03-15T00:24:58.295398",
     "exception": false,
     "start_time": "2022-03-15T00:24:58.225247",
     "status": "completed"
    },
    "tags": []
   },
   "outputs": [],
   "source": [
    "def plot_confusion_matrix(y,y_predict):\n",
    "    \"this function plots the confusion matrix\"\n",
    "    from sklearn.metrics import confusion_matrix\n",
    "\n",
    "    cm = confusion_matrix(y, y_predict)\n",
    "    ax= plt.subplot()\n",
    "    sns.heatmap(cm, annot=True, ax = ax); #annot=True to annotate cells\n",
    "    ax.set_xlabel('Predicted labels')\n",
    "    ax.set_ylabel('True labels')\n",
    "    ax.set_title('Confusion Matrix'); "
   ]
  },
  {
   "cell_type": "code",
   "execution_count": 28,
   "id": "7c059eb4",
   "metadata": {
    "execution": {
     "iopub.execute_input": "2022-03-15T00:24:58.424215Z",
     "iopub.status.busy": "2022-03-15T00:24:58.423205Z",
     "iopub.status.idle": "2022-03-15T00:24:58.431293Z",
     "shell.execute_reply": "2022-03-15T00:24:58.431813Z",
     "shell.execute_reply.started": "2022-03-15T00:24:05.039167Z"
    },
    "papermill": {
     "duration": 0.073134,
     "end_time": "2022-03-15T00:24:58.431989",
     "exception": false,
     "start_time": "2022-03-15T00:24:58.358855",
     "status": "completed"
    },
    "tags": []
   },
   "outputs": [],
   "source": [
    "def model_evaluation(model, X_train, y_train, X_test, y_test):\n",
    "    \n",
    "    \n",
    "    \n",
    "    ss = StandardScaler()\n",
    "    X_train_ss = ss.fit_transform(X_train)\n",
    "    X_test_ss = ss.fit_transform(X_test)\n",
    "    print(\"Scaling process is done ...\")\n",
    "    \n",
    "    print(\"**********************************\")\n",
    "    \n",
    "    print(\"Model building process is started ...\")\n",
    "    mod = model.fit(X_train, y_train)\n",
    "    mod_pred = model.predict(X_test)\n",
    "    print(\"Model creation process is done ...\")\n",
    "    print(\"**********************************\")\n",
    "    print(\"Evaluation of the Model\")\n",
    "    print(\"***********************************\")\n",
    "    \n",
    "    print(\"Classification report of the Model: \\n {}\".format(classification_report(y_test, mod_pred)))\n",
    "    print(\"Confusion Matrix of the given Model: \\n {}\".format(confusion_matrix(y_test, mod_pred)))\n",
    "    plot_confusion_matrix(y_test,mod_pred)\n",
    "    print(\"Accuracy score of the Model: \\n{}\".format(accuracy_score(y_test, mod_pred)))\n",
    "    \n",
    "    print(\"Evaluation process is done ...\")\n",
    "    \n",
    "    print(\"***********************************************\")\n",
    "    \n",
    "    return mod"
   ]
  },
  {
   "cell_type": "code",
   "execution_count": 29,
   "id": "505489e8",
   "metadata": {
    "execution": {
     "iopub.execute_input": "2022-03-15T00:24:58.556705Z",
     "iopub.status.busy": "2022-03-15T00:24:58.555925Z",
     "iopub.status.idle": "2022-03-15T00:24:58.836975Z",
     "shell.execute_reply": "2022-03-15T00:24:58.836425Z",
     "shell.execute_reply.started": "2022-03-15T00:24:05.054579Z"
    },
    "papermill": {
     "duration": 0.34454,
     "end_time": "2022-03-15T00:24:58.837143",
     "exception": false,
     "start_time": "2022-03-15T00:24:58.492603",
     "status": "completed"
    },
    "tags": []
   },
   "outputs": [
    {
     "name": "stdout",
     "output_type": "stream",
     "text": [
      "Scaling process is done ...\n",
      "**********************************\n",
      "Model building process is started ...\n",
      "Model creation process is done ...\n",
      "**********************************\n",
      "Evaluation of the Model\n",
      "***********************************\n",
      "Classification report of the Model: \n",
      "               precision    recall  f1-score   support\n",
      "\n",
      "           0       0.84      0.92      0.88       119\n",
      "           1       0.80      0.67      0.73        60\n",
      "\n",
      "    accuracy                           0.83       179\n",
      "   macro avg       0.82      0.79      0.80       179\n",
      "weighted avg       0.83      0.83      0.83       179\n",
      "\n",
      "Confusion Matrix of the given Model: \n",
      " [[109  10]\n",
      " [ 20  40]]\n",
      "Accuracy score of the Model: \n",
      "0.8324022346368715\n",
      "Evaluation process is done ...\n",
      "***********************************************\n"
     ]
    },
    {
     "data": {
      "text/plain": [
       "DecisionTreeClassifier()"
      ]
     },
     "execution_count": 29,
     "metadata": {},
     "output_type": "execute_result"
    },
    {
     "data": {
      "image/png": "[encoded data removed]",
      "text/plain": [
       "<Figure size 432x288 with 2 Axes>"
      ]
     },
     "metadata": {},
     "output_type": "display_data"
    }
   ],
   "source": [
    "dtc = DecisionTreeClassifier()\n",
    "model_evaluation(dtc, X_train, y_train, X_test, y_test)"
   ]
  },
  {
   "cell_type": "code",
   "execution_count": 30,
   "id": "4da50f01",
   "metadata": {
    "execution": {
     "iopub.execute_input": "2022-03-15T00:24:58.974108Z",
     "iopub.status.busy": "2022-03-15T00:24:58.973401Z",
     "iopub.status.idle": "2022-03-15T00:24:59.268802Z",
     "shell.execute_reply": "2022-03-15T00:24:59.268168Z",
     "shell.execute_reply.started": "2022-03-15T00:24:05.283398Z"
    },
    "papermill": {
     "duration": 0.368329,
     "end_time": "2022-03-15T00:24:59.268956",
     "exception": false,
     "start_time": "2022-03-15T00:24:58.900627",
     "status": "completed"
    },
    "tags": []
   },
   "outputs": [
    {
     "name": "stdout",
     "output_type": "stream",
     "text": [
      "Scaling process is done ...\n",
      "**********************************\n",
      "Model building process is started ...\n",
      "Model creation process is done ...\n",
      "**********************************\n",
      "Evaluation of the Model\n",
      "***********************************\n",
      "Classification report of the Model: \n",
      "               precision    recall  f1-score   support\n",
      "\n",
      "           0       0.71      0.91      0.79       119\n",
      "           1       0.58      0.25      0.35        60\n",
      "\n",
      "    accuracy                           0.69       179\n",
      "   macro avg       0.64      0.58      0.57       179\n",
      "weighted avg       0.66      0.69      0.64       179\n",
      "\n",
      "Confusion Matrix of the given Model: \n",
      " [[108  11]\n",
      " [ 45  15]]\n",
      "Accuracy score of the Model: \n",
      "0.6871508379888268\n",
      "Evaluation process is done ...\n",
      "***********************************************\n"
     ]
    },
    {
     "data": {
      "text/plain": [
       "SVC()"
      ]
     },
     "execution_count": 30,
     "metadata": {},
     "output_type": "execute_result"
    },
    {
     "data": {
      "image/png": "[encoded data removed]",
      "text/plain": [
       "<Figure size 432x288 with 2 Axes>"
      ]
     },
     "metadata": {},
     "output_type": "display_data"
    }
   ],
   "source": [
    "svc = SVC()\n",
    "model_evaluation(svc, X_train, y_train, X_test, y_test)"
   ]
  },
  {
   "cell_type": "code",
   "execution_count": 31,
   "id": "021c2a78",
   "metadata": {
    "execution": {
     "iopub.execute_input": "2022-03-15T00:24:59.414403Z",
     "iopub.status.busy": "2022-03-15T00:24:59.409096Z",
     "iopub.status.idle": "2022-03-15T00:24:59.687299Z",
     "shell.execute_reply": "2022-03-15T00:24:59.687765Z",
     "shell.execute_reply.started": "2022-03-15T00:24:05.606884Z"
    },
    "papermill": {
     "duration": 0.353636,
     "end_time": "2022-03-15T00:24:59.688023",
     "exception": false,
     "start_time": "2022-03-15T00:24:59.334387",
     "status": "completed"
    },
    "tags": []
   },
   "outputs": [
    {
     "name": "stdout",
     "output_type": "stream",
     "text": [
      "Scaling process is done ...\n",
      "**********************************\n",
      "Model building process is started ...\n",
      "Model creation process is done ...\n",
      "**********************************\n",
      "Evaluation of the Model\n",
      "***********************************\n",
      "Classification report of the Model: \n",
      "               precision    recall  f1-score   support\n",
      "\n",
      "           0       0.81      0.89      0.85       119\n",
      "           1       0.73      0.58      0.65        60\n",
      "\n",
      "    accuracy                           0.79       179\n",
      "   macro avg       0.77      0.74      0.75       179\n",
      "weighted avg       0.78      0.79      0.78       179\n",
      "\n",
      "Confusion Matrix of the given Model: \n",
      " [[106  13]\n",
      " [ 25  35]]\n",
      "Accuracy score of the Model: \n",
      "0.7877094972067039\n",
      "Evaluation process is done ...\n",
      "***********************************************\n"
     ]
    },
    {
     "data": {
      "text/plain": [
       "KNeighborsClassifier()"
      ]
     },
     "execution_count": 31,
     "metadata": {},
     "output_type": "execute_result"
    },
    {
     "data": {
      "image/png": "[encoded data removed]",
      "text/plain": [
       "<Figure size 432x288 with 2 Axes>"
      ]
     },
     "metadata": {},
     "output_type": "display_data"
    }
   ],
   "source": [
    "KNN =KNeighborsClassifier()\n",
    "model_evaluation(KNN, X_train, y_train, X_test, y_test)"
   ]
  },
  {
   "cell_type": "code",
   "execution_count": 32,
   "id": "a42b2893",
   "metadata": {
    "execution": {
     "iopub.execute_input": "2022-03-15T00:24:59.823624Z",
     "iopub.status.busy": "2022-03-15T00:24:59.822916Z",
     "iopub.status.idle": "2022-03-15T00:25:00.439995Z",
     "shell.execute_reply": "2022-03-15T00:25:00.439413Z",
     "shell.execute_reply.started": "2022-03-15T00:24:05.848648Z"
    },
    "papermill": {
     "duration": 0.685955,
     "end_time": "2022-03-15T00:25:00.440176",
     "exception": false,
     "start_time": "2022-03-15T00:24:59.754221",
     "status": "completed"
    },
    "tags": []
   },
   "outputs": [
    {
     "name": "stdout",
     "output_type": "stream",
     "text": [
      "Scaling process is done ...\n",
      "**********************************\n",
      "Model building process is started ...\n",
      "Model creation process is done ...\n",
      "**********************************\n",
      "Evaluation of the Model\n",
      "***********************************\n",
      "Classification report of the Model: \n",
      "               precision    recall  f1-score   support\n",
      "\n",
      "           0       0.86      0.92      0.89       119\n",
      "           1       0.81      0.70      0.75        60\n",
      "\n",
      "    accuracy                           0.84       179\n",
      "   macro avg       0.83      0.81      0.82       179\n",
      "weighted avg       0.84      0.84      0.84       179\n",
      "\n",
      "Confusion Matrix of the given Model: \n",
      " [[109  10]\n",
      " [ 18  42]]\n",
      "Accuracy score of the Model: \n",
      "0.8435754189944135\n",
      "Evaluation process is done ...\n",
      "***********************************************\n"
     ]
    },
    {
     "data": {
      "text/plain": [
       "RandomForestClassifier()"
      ]
     },
     "execution_count": 32,
     "metadata": {},
     "output_type": "execute_result"
    },
    {
     "data": {
      "image/png": "[encoded data removed]",
      "text/plain": [
       "<Figure size 432x288 with 2 Axes>"
      ]
     },
     "metadata": {},
     "output_type": "display_data"
    }
   ],
   "source": [
    "rfc = RandomForestClassifier()\n",
    "model_evaluation(rfc, X_train, y_train, X_test, y_test)"
   ]
  },
  {
   "cell_type": "code",
   "execution_count": 33,
   "id": "f7ceb052",
   "metadata": {
    "execution": {
     "iopub.execute_input": "2022-03-15T00:25:00.581451Z",
     "iopub.status.busy": "2022-03-15T00:25:00.580488Z",
     "iopub.status.idle": "2022-03-15T00:25:00.891388Z",
     "shell.execute_reply": "2022-03-15T00:25:00.891851Z",
     "shell.execute_reply.started": "2022-03-15T00:24:06.263829Z"
    },
    "papermill": {
     "duration": 0.382899,
     "end_time": "2022-03-15T00:25:00.892064",
     "exception": false,
     "start_time": "2022-03-15T00:25:00.509165",
     "status": "completed"
    },
    "tags": []
   },
   "outputs": [
    {
     "name": "stdout",
     "output_type": "stream",
     "text": [
      "Scaling process is done ...\n",
      "**********************************\n",
      "Model building process is started ...\n",
      "Model creation process is done ...\n",
      "**********************************\n",
      "Evaluation of the Model\n",
      "***********************************\n",
      "Classification report of the Model: \n",
      "               precision    recall  f1-score   support\n",
      "\n",
      "           0       0.86      0.87      0.86       119\n",
      "           1       0.73      0.72      0.72        60\n",
      "\n",
      "    accuracy                           0.82       179\n",
      "   macro avg       0.79      0.79      0.79       179\n",
      "weighted avg       0.81      0.82      0.82       179\n",
      "\n",
      "Confusion Matrix of the given Model: \n",
      " [[103  16]\n",
      " [ 17  43]]\n",
      "Accuracy score of the Model: \n",
      "0.8156424581005587\n",
      "Evaluation process is done ...\n",
      "***********************************************\n"
     ]
    },
    {
     "data": {
      "text/plain": [
       "LogisticRegression()"
      ]
     },
     "execution_count": 33,
     "metadata": {},
     "output_type": "execute_result"
    },
    {
     "data": {
      "image/png": "[encoded data removed]",
      "text/plain": [
       "<Figure size 432x288 with 2 Axes>"
      ]
     },
     "metadata": {},
     "output_type": "display_data"
    }
   ],
   "source": [
    "lr=LogisticRegression()\n",
    "model_evaluation(lr, X_train, y_train, X_test, y_test)"
   ]
  },
  {
   "cell_type": "code",
   "execution_count": 34,
   "id": "0693dab7",
   "metadata": {
    "execution": {
     "iopub.execute_input": "2022-03-15T00:25:01.037060Z",
     "iopub.status.busy": "2022-03-15T00:25:01.036376Z",
     "iopub.status.idle": "2022-03-15T00:25:01.413260Z",
     "shell.execute_reply": "2022-03-15T00:25:01.412632Z",
     "shell.execute_reply.started": "2022-03-15T00:24:06.574996Z"
    },
    "papermill": {
     "duration": 0.450888,
     "end_time": "2022-03-15T00:25:01.413411",
     "exception": false,
     "start_time": "2022-03-15T00:25:00.962523",
     "status": "completed"
    },
    "tags": []
   },
   "outputs": [
    {
     "name": "stdout",
     "output_type": "stream",
     "text": [
      "Scaling process is done ...\n",
      "**********************************\n",
      "Model building process is started ...\n",
      "Model creation process is done ...\n",
      "**********************************\n",
      "Evaluation of the Model\n",
      "***********************************\n",
      "Classification report of the Model: \n",
      "               precision    recall  f1-score   support\n",
      "\n",
      "           0       0.85      0.92      0.88       119\n",
      "           1       0.82      0.67      0.73        60\n",
      "\n",
      "    accuracy                           0.84       179\n",
      "   macro avg       0.83      0.80      0.81       179\n",
      "weighted avg       0.84      0.84      0.83       179\n",
      "\n",
      "Confusion Matrix of the given Model: \n",
      " [[110   9]\n",
      " [ 20  40]]\n",
      "Accuracy score of the Model: \n",
      "0.8379888268156425\n",
      "Evaluation process is done ...\n",
      "***********************************************\n"
     ]
    },
    {
     "data": {
      "text/plain": [
       "GradientBoostingClassifier()"
      ]
     },
     "execution_count": 34,
     "metadata": {},
     "output_type": "execute_result"
    },
    {
     "data": {
      "image/png": "[encoded data removed]",
      "text/plain": [
       "<Figure size 432x288 with 2 Axes>"
      ]
     },
     "metadata": {},
     "output_type": "display_data"
    }
   ],
   "source": [
    "xgb= GradientBoostingClassifier()\n",
    "model_evaluation(xgb, X_train, y_train, X_test, y_test)"
   ]
  },
  {
   "cell_type": "code",
   "execution_count": 35,
   "id": "3287b772",
   "metadata": {
    "execution": {
     "iopub.execute_input": "2022-03-15T00:25:01.564678Z",
     "iopub.status.busy": "2022-03-15T00:25:01.563995Z",
     "iopub.status.idle": "2022-03-15T00:25:01.617732Z",
     "shell.execute_reply": "2022-03-15T00:25:01.617177Z",
     "shell.execute_reply.started": "2022-03-15T00:24:06.900103Z"
    },
    "papermill": {
     "duration": 0.128927,
     "end_time": "2022-03-15T00:25:01.617887",
     "exception": false,
     "start_time": "2022-03-15T00:25:01.488960",
     "status": "completed"
    },
    "tags": []
   },
   "outputs": [
    {
     "data": {
      "text/html": [
       "<div>\n",
       "<style scoped>\n",
       "    .dataframe tbody tr th:only-of-type {\n",
       "        vertical-align: middle;\n",
       "    }\n",
       "\n",
       "    .dataframe tbody tr th {\n",
       "        vertical-align: top;\n",
       "    }\n",
       "\n",
       "    .dataframe thead th {\n",
       "        text-align: right;\n",
       "    }\n",
       "</style>\n",
       "<table border=\"1\" class=\"dataframe\">\n",
       "  <thead>\n",
       "    <tr style=\"text-align: right;\">\n",
       "      <th></th>\n",
       "      <th>Model</th>\n",
       "      <th>Score</th>\n",
       "    </tr>\n",
       "  </thead>\n",
       "  <tbody>\n",
       "    <tr>\n",
       "      <th>3</th>\n",
       "      <td>rfc</td>\n",
       "      <td>0.843575</td>\n",
       "    </tr>\n",
       "    <tr>\n",
       "      <th>5</th>\n",
       "      <td>xgb</td>\n",
       "      <td>0.837989</td>\n",
       "    </tr>\n",
       "    <tr>\n",
       "      <th>4</th>\n",
       "      <td>dtc</td>\n",
       "      <td>0.832402</td>\n",
       "    </tr>\n",
       "    <tr>\n",
       "      <th>2</th>\n",
       "      <td>lr</td>\n",
       "      <td>0.815642</td>\n",
       "    </tr>\n",
       "    <tr>\n",
       "      <th>0</th>\n",
       "      <td>KNN</td>\n",
       "      <td>0.787709</td>\n",
       "    </tr>\n",
       "    <tr>\n",
       "      <th>1</th>\n",
       "      <td>SVC</td>\n",
       "      <td>0.687151</td>\n",
       "    </tr>\n",
       "  </tbody>\n",
       "</table>\n",
       "</div>"
      ],
      "text/plain": [
       "  Model     Score\n",
       "3   rfc  0.843575\n",
       "5   xgb  0.837989\n",
       "4   dtc  0.832402\n",
       "2    lr  0.815642\n",
       "0   KNN  0.787709\n",
       "1   SVC  0.687151"
      ]
     },
     "execution_count": 35,
     "metadata": {},
     "output_type": "execute_result"
    }
   ],
   "source": [
    "knn_acc=accuracy_score(y_test, KNN.predict(X_test))\n",
    "dtc_acc=accuracy_score(y_test, dtc.predict(X_test))\n",
    "lr_acc=accuracy_score(y_test, lr.predict(X_test))\n",
    "svc_acc=accuracy_score(y_test, svc.predict(X_test))\n",
    "rfc_acc=accuracy_score(y_test, rfc.predict(X_test))\n",
    "xgb_acc=accuracy_score(y_test, xgb.predict(X_test))\n",
    "models = pd.DataFrame({\n",
    "    'Model': ['KNN','SVC','lr','rfc','dtc','xgb'],\n",
    "    'Score': [knn_acc, svc_acc, lr_acc, rfc_acc, dtc_acc,xgb_acc]})\n",
    "models.sort_values(by = 'Score', ascending = False)"
   ]
  },
  {
   "cell_type": "code",
   "execution_count": 36,
   "id": "541cd8c0",
   "metadata": {
    "execution": {
     "iopub.execute_input": "2022-03-15T00:25:01.766451Z",
     "iopub.status.busy": "2022-03-15T00:25:01.765732Z",
     "iopub.status.idle": "2022-03-15T00:25:02.024989Z",
     "shell.execute_reply": "2022-03-15T00:25:02.024350Z",
     "shell.execute_reply.started": "2022-03-15T00:24:06.960001Z"
    },
    "papermill": {
     "duration": 0.334537,
     "end_time": "2022-03-15T00:25:02.025159",
     "exception": false,
     "start_time": "2022-03-15T00:25:01.690622",
     "status": "completed"
    },
    "tags": []
   },
   "outputs": [
    {
     "data": {
      "text/plain": [
       "<AxesSubplot:xlabel='Model', ylabel='Score'>"
      ]
     },
     "execution_count": 36,
     "metadata": {},
     "output_type": "execute_result"
    },
    {
     "data": {
      "image/png": "[encoded data removed]",
      "text/plain": [
       "<Figure size 720x576 with 1 Axes>"
      ]
     },
     "metadata": {},
     "output_type": "display_data"
    }
   ],
   "source": [
    "plt.figure(figsize=(10,8))\n",
    "sns.barplot(x='Model',y='Score',data=models)"
   ]
  },
  {
   "cell_type": "code",
   "execution_count": 37,
   "id": "b6139752",
   "metadata": {
    "execution": {
     "iopub.execute_input": "2022-03-15T00:25:02.209103Z",
     "iopub.status.busy": "2022-03-15T00:25:02.208065Z",
     "iopub.status.idle": "2022-03-15T00:25:02.224933Z",
     "shell.execute_reply": "2022-03-15T00:25:02.225530Z",
     "shell.execute_reply.started": "2022-03-15T00:24:07.170132Z"
    },
    "papermill": {
     "duration": 0.121439,
     "end_time": "2022-03-15T00:25:02.225717",
     "exception": false,
     "start_time": "2022-03-15T00:25:02.104278",
     "status": "completed"
    },
    "tags": []
   },
   "outputs": [],
   "source": [
    "df1=pd.read_csv('/kaggle/input/titanic/test.csv')"
   ]
  },
  {
   "cell_type": "code",
   "execution_count": 38,
   "id": "759e0eb0",
   "metadata": {
    "execution": {
     "iopub.execute_input": "2022-03-15T00:25:02.390484Z",
     "iopub.status.busy": "2022-03-15T00:25:02.387878Z",
     "iopub.status.idle": "2022-03-15T00:25:02.404379Z",
     "shell.execute_reply": "2022-03-15T00:25:02.404930Z",
     "shell.execute_reply.started": "2022-03-15T00:24:07.181663Z"
    },
    "papermill": {
     "duration": 0.101199,
     "end_time": "2022-03-15T00:25:02.405172",
     "exception": false,
     "start_time": "2022-03-15T00:25:02.303973",
     "status": "completed"
    },
    "tags": []
   },
   "outputs": [
    {
     "data": {
      "text/html": [
       "<div>\n",
       "<style scoped>\n",
       "    .dataframe tbody tr th:only-of-type {\n",
       "        vertical-align: middle;\n",
       "    }\n",
       "\n",
       "    .dataframe tbody tr th {\n",
       "        vertical-align: top;\n",
       "    }\n",
       "\n",
       "    .dataframe thead th {\n",
       "        text-align: right;\n",
       "    }\n",
       "</style>\n",
       "<table border=\"1\" class=\"dataframe\">\n",
       "  <thead>\n",
       "    <tr style=\"text-align: right;\">\n",
       "      <th></th>\n",
       "      <th>PassengerId</th>\n",
       "      <th>Pclass</th>\n",
       "      <th>Name</th>\n",
       "      <th>Sex</th>\n",
       "      <th>Age</th>\n",
       "      <th>SibSp</th>\n",
       "      <th>Parch</th>\n",
       "      <th>Ticket</th>\n",
       "      <th>Fare</th>\n",
       "      <th>Cabin</th>\n",
       "      <th>Embarked</th>\n",
       "    </tr>\n",
       "  </thead>\n",
       "  <tbody>\n",
       "    <tr>\n",
       "      <th>0</th>\n",
       "      <td>892</td>\n",
       "      <td>3</td>\n",
       "      <td>Kelly, Mr. James</td>\n",
       "      <td>male</td>\n",
       "      <td>34.5</td>\n",
       "      <td>0</td>\n",
       "      <td>0</td>\n",
       "      <td>330911</td>\n",
       "      <td>7.8292</td>\n",
       "      <td>NaN</td>\n",
       "      <td>Q</td>\n",
       "    </tr>\n",
       "    <tr>\n",
       "      <th>1</th>\n",
       "      <td>893</td>\n",
       "      <td>3</td>\n",
       "      <td>Wilkes, Mrs. James (Ellen Needs)</td>\n",
       "      <td>female</td>\n",
       "      <td>47.0</td>\n",
       "      <td>1</td>\n",
       "      <td>0</td>\n",
       "      <td>363272</td>\n",
       "      <td>7.0000</td>\n",
       "      <td>NaN</td>\n",
       "      <td>S</td>\n",
       "    </tr>\n",
       "    <tr>\n",
       "      <th>2</th>\n",
       "      <td>894</td>\n",
       "      <td>2</td>\n",
       "      <td>Myles, Mr. Thomas Francis</td>\n",
       "      <td>male</td>\n",
       "      <td>62.0</td>\n",
       "      <td>0</td>\n",
       "      <td>0</td>\n",
       "      <td>240276</td>\n",
       "      <td>9.6875</td>\n",
       "      <td>NaN</td>\n",
       "      <td>Q</td>\n",
       "    </tr>\n",
       "    <tr>\n",
       "      <th>3</th>\n",
       "      <td>895</td>\n",
       "      <td>3</td>\n",
       "      <td>Wirz, Mr. Albert</td>\n",
       "      <td>male</td>\n",
       "      <td>27.0</td>\n",
       "      <td>0</td>\n",
       "      <td>0</td>\n",
       "      <td>315154</td>\n",
       "      <td>8.6625</td>\n",
       "      <td>NaN</td>\n",
       "      <td>S</td>\n",
       "    </tr>\n",
       "    <tr>\n",
       "      <th>4</th>\n",
       "      <td>896</td>\n",
       "      <td>3</td>\n",
       "      <td>Hirvonen, Mrs. Alexander (Helga E Lindqvist)</td>\n",
       "      <td>female</td>\n",
       "      <td>22.0</td>\n",
       "      <td>1</td>\n",
       "      <td>1</td>\n",
       "      <td>3101298</td>\n",
       "      <td>12.2875</td>\n",
       "      <td>NaN</td>\n",
       "      <td>S</td>\n",
       "    </tr>\n",
       "  </tbody>\n",
       "</table>\n",
       "</div>"
      ],
      "text/plain": [
       "   PassengerId  Pclass                                          Name     Sex  \\\n",
       "0          892       3                              Kelly, Mr. James    male   \n",
       "1          893       3              Wilkes, Mrs. James (Ellen Needs)  female   \n",
       "2          894       2                     Myles, Mr. Thomas Francis    male   \n",
       "3          895       3                              Wirz, Mr. Albert    male   \n",
       "4          896       3  Hirvonen, Mrs. Alexander (Helga E Lindqvist)  female   \n",
       "\n",
       "    Age  SibSp  Parch   Ticket     Fare Cabin Embarked  \n",
       "0  34.5      0      0   330911   7.8292   NaN        Q  \n",
       "1  47.0      1      0   363272   7.0000   NaN        S  \n",
       "2  62.0      0      0   240276   9.6875   NaN        Q  \n",
       "3  27.0      0      0   315154   8.6625   NaN        S  \n",
       "4  22.0      1      1  3101298  12.2875   NaN        S  "
      ]
     },
     "execution_count": 38,
     "metadata": {},
     "output_type": "execute_result"
    }
   ],
   "source": [
    "df1.head()"
   ]
  },
  {
   "cell_type": "code",
   "execution_count": 39,
   "id": "63dfb441",
   "metadata": {
    "execution": {
     "iopub.execute_input": "2022-03-15T00:25:02.566394Z",
     "iopub.status.busy": "2022-03-15T00:25:02.565333Z",
     "iopub.status.idle": "2022-03-15T00:25:02.571864Z",
     "shell.execute_reply": "2022-03-15T00:25:02.572501Z",
     "shell.execute_reply.started": "2022-03-15T00:24:07.200195Z"
    },
    "papermill": {
     "duration": 0.087259,
     "end_time": "2022-03-15T00:25:02.572676",
     "exception": false,
     "start_time": "2022-03-15T00:25:02.485417",
     "status": "completed"
    },
    "tags": []
   },
   "outputs": [],
   "source": [
    "genders=[\"female\", \"male\"]\n",
    "gender=[0,1]\n",
    "df1['Sex'] = df1['Sex'].replace(genders, gender)\n",
    "\n"
   ]
  },
  {
   "cell_type": "code",
   "execution_count": 40,
   "id": "a997e24e",
   "metadata": {
    "execution": {
     "iopub.execute_input": "2022-03-15T00:25:02.736322Z",
     "iopub.status.busy": "2022-03-15T00:25:02.735470Z",
     "iopub.status.idle": "2022-03-15T00:25:02.740948Z",
     "shell.execute_reply": "2022-03-15T00:25:02.741539Z",
     "shell.execute_reply.started": "2022-03-15T00:24:07.209948Z"
    },
    "papermill": {
     "duration": 0.090232,
     "end_time": "2022-03-15T00:25:02.741749",
     "exception": false,
     "start_time": "2022-03-15T00:25:02.651517",
     "status": "completed"
    },
    "tags": []
   },
   "outputs": [],
   "source": [
    "mean_value=df1['Fare'].mean()\n",
    "df1['Fare'].fillna(value=mean_value, inplace=True)\n"
   ]
  },
  {
   "cell_type": "code",
   "execution_count": 41,
   "id": "e49b931f",
   "metadata": {
    "execution": {
     "iopub.execute_input": "2022-03-15T00:25:02.904658Z",
     "iopub.status.busy": "2022-03-15T00:25:02.903844Z",
     "iopub.status.idle": "2022-03-15T00:25:02.913404Z",
     "shell.execute_reply": "2022-03-15T00:25:02.913970Z",
     "shell.execute_reply.started": "2022-03-15T00:24:07.223686Z"
    },
    "papermill": {
     "duration": 0.091658,
     "end_time": "2022-03-15T00:25:02.914213",
     "exception": false,
     "start_time": "2022-03-15T00:25:02.822555",
     "status": "completed"
    },
    "tags": []
   },
   "outputs": [
    {
     "data": {
      "text/plain": [
       "PassengerId      0\n",
       "Pclass           0\n",
       "Name             0\n",
       "Sex              0\n",
       "Age             86\n",
       "SibSp            0\n",
       "Parch            0\n",
       "Ticket           0\n",
       "Fare             0\n",
       "Cabin          327\n",
       "Embarked         0\n",
       "dtype: int64"
      ]
     },
     "execution_count": 41,
     "metadata": {},
     "output_type": "execute_result"
    }
   ],
   "source": [
    "df1.isnull().sum()"
   ]
  },
  {
   "cell_type": "code",
   "execution_count": 42,
   "id": "0870a876",
   "metadata": {
    "execution": {
     "iopub.execute_input": "2022-03-15T00:25:03.083771Z",
     "iopub.status.busy": "2022-03-15T00:25:03.083026Z",
     "iopub.status.idle": "2022-03-15T00:25:03.098945Z",
     "shell.execute_reply": "2022-03-15T00:25:03.099635Z",
     "shell.execute_reply.started": "2022-03-15T00:24:07.244691Z"
    },
    "papermill": {
     "duration": 0.102025,
     "end_time": "2022-03-15T00:25:03.099831",
     "exception": false,
     "start_time": "2022-03-15T00:25:02.997806",
     "status": "completed"
    },
    "tags": []
   },
   "outputs": [
    {
     "data": {
      "text/html": [
       "<div>\n",
       "<style scoped>\n",
       "    .dataframe tbody tr th:only-of-type {\n",
       "        vertical-align: middle;\n",
       "    }\n",
       "\n",
       "    .dataframe tbody tr th {\n",
       "        vertical-align: top;\n",
       "    }\n",
       "\n",
       "    .dataframe thead th {\n",
       "        text-align: right;\n",
       "    }\n",
       "</style>\n",
       "<table border=\"1\" class=\"dataframe\">\n",
       "  <thead>\n",
       "    <tr style=\"text-align: right;\">\n",
       "      <th></th>\n",
       "      <th>PassengerId</th>\n",
       "      <th>Pclass</th>\n",
       "      <th>Name</th>\n",
       "      <th>Sex</th>\n",
       "      <th>Age</th>\n",
       "      <th>SibSp</th>\n",
       "      <th>Parch</th>\n",
       "      <th>Ticket</th>\n",
       "      <th>Fare</th>\n",
       "      <th>Cabin</th>\n",
       "      <th>Embarked</th>\n",
       "    </tr>\n",
       "  </thead>\n",
       "  <tbody>\n",
       "    <tr>\n",
       "      <th>0</th>\n",
       "      <td>892</td>\n",
       "      <td>3</td>\n",
       "      <td>Kelly, Mr. James</td>\n",
       "      <td>1</td>\n",
       "      <td>34.5</td>\n",
       "      <td>0</td>\n",
       "      <td>0</td>\n",
       "      <td>330911</td>\n",
       "      <td>7.8292</td>\n",
       "      <td>NaN</td>\n",
       "      <td>Q</td>\n",
       "    </tr>\n",
       "    <tr>\n",
       "      <th>1</th>\n",
       "      <td>893</td>\n",
       "      <td>3</td>\n",
       "      <td>Wilkes, Mrs. James (Ellen Needs)</td>\n",
       "      <td>0</td>\n",
       "      <td>47.0</td>\n",
       "      <td>1</td>\n",
       "      <td>0</td>\n",
       "      <td>363272</td>\n",
       "      <td>7.0000</td>\n",
       "      <td>NaN</td>\n",
       "      <td>S</td>\n",
       "    </tr>\n",
       "    <tr>\n",
       "      <th>2</th>\n",
       "      <td>894</td>\n",
       "      <td>2</td>\n",
       "      <td>Myles, Mr. Thomas Francis</td>\n",
       "      <td>1</td>\n",
       "      <td>62.0</td>\n",
       "      <td>0</td>\n",
       "      <td>0</td>\n",
       "      <td>240276</td>\n",
       "      <td>9.6875</td>\n",
       "      <td>NaN</td>\n",
       "      <td>Q</td>\n",
       "    </tr>\n",
       "    <tr>\n",
       "      <th>3</th>\n",
       "      <td>895</td>\n",
       "      <td>3</td>\n",
       "      <td>Wirz, Mr. Albert</td>\n",
       "      <td>1</td>\n",
       "      <td>27.0</td>\n",
       "      <td>0</td>\n",
       "      <td>0</td>\n",
       "      <td>315154</td>\n",
       "      <td>8.6625</td>\n",
       "      <td>NaN</td>\n",
       "      <td>S</td>\n",
       "    </tr>\n",
       "    <tr>\n",
       "      <th>4</th>\n",
       "      <td>896</td>\n",
       "      <td>3</td>\n",
       "      <td>Hirvonen, Mrs. Alexander (Helga E Lindqvist)</td>\n",
       "      <td>0</td>\n",
       "      <td>22.0</td>\n",
       "      <td>1</td>\n",
       "      <td>1</td>\n",
       "      <td>3101298</td>\n",
       "      <td>12.2875</td>\n",
       "      <td>NaN</td>\n",
       "      <td>S</td>\n",
       "    </tr>\n",
       "  </tbody>\n",
       "</table>\n",
       "</div>"
      ],
      "text/plain": [
       "   PassengerId  Pclass                                          Name  Sex  \\\n",
       "0          892       3                              Kelly, Mr. James    1   \n",
       "1          893       3              Wilkes, Mrs. James (Ellen Needs)    0   \n",
       "2          894       2                     Myles, Mr. Thomas Francis    1   \n",
       "3          895       3                              Wirz, Mr. Albert    1   \n",
       "4          896       3  Hirvonen, Mrs. Alexander (Helga E Lindqvist)    0   \n",
       "\n",
       "    Age  SibSp  Parch   Ticket     Fare Cabin Embarked  \n",
       "0  34.5      0      0   330911   7.8292   NaN        Q  \n",
       "1  47.0      1      0   363272   7.0000   NaN        S  \n",
       "2  62.0      0      0   240276   9.6875   NaN        Q  \n",
       "3  27.0      0      0   315154   8.6625   NaN        S  \n",
       "4  22.0      1      1  3101298  12.2875   NaN        S  "
      ]
     },
     "execution_count": 42,
     "metadata": {},
     "output_type": "execute_result"
    }
   ],
   "source": [
    "df1.head()"
   ]
  },
  {
   "cell_type": "code",
   "execution_count": 43,
   "id": "c2a40daf",
   "metadata": {
    "execution": {
     "iopub.execute_input": "2022-03-15T00:25:03.266391Z",
     "iopub.status.busy": "2022-03-15T00:25:03.265683Z",
     "iopub.status.idle": "2022-03-15T00:25:03.271445Z",
     "shell.execute_reply": "2022-03-15T00:25:03.272024Z",
     "shell.execute_reply.started": "2022-03-15T00:24:07.264697Z"
    },
    "papermill": {
     "duration": 0.090979,
     "end_time": "2022-03-15T00:25:03.272238",
     "exception": false,
     "start_time": "2022-03-15T00:25:03.181259",
     "status": "completed"
    },
    "tags": []
   },
   "outputs": [
    {
     "data": {
      "text/plain": [
       "array([1, 2, 0])"
      ]
     },
     "execution_count": 43,
     "metadata": {},
     "output_type": "execute_result"
    }
   ],
   "source": [
    "label_encoder = preprocessing.LabelEncoder()\n",
    "\n",
    "# Encode labels in column 'species'.\n",
    "df1['Embarked']= label_encoder.fit_transform(df1['Embarked'])\n",
    "\n",
    "df1['Embarked'].unique()\n"
   ]
  },
  {
   "cell_type": "code",
   "execution_count": 44,
   "id": "c7179052",
   "metadata": {
    "execution": {
     "iopub.execute_input": "2022-03-15T00:25:03.443761Z",
     "iopub.status.busy": "2022-03-15T00:25:03.442507Z",
     "iopub.status.idle": "2022-03-15T00:25:03.445153Z",
     "shell.execute_reply": "2022-03-15T00:25:03.445667Z",
     "shell.execute_reply.started": "2022-03-15T00:24:07.279774Z"
    },
    "papermill": {
     "duration": 0.091126,
     "end_time": "2022-03-15T00:25:03.445840",
     "exception": false,
     "start_time": "2022-03-15T00:25:03.354714",
     "status": "completed"
    },
    "tags": []
   },
   "outputs": [],
   "source": [
    "df1.drop(['PassengerId','Cabin','Ticket','Name','SibSp','Age','Parch'],axis=1,inplace=True)"
   ]
  },
  {
   "cell_type": "code",
   "execution_count": 45,
   "id": "cfe73b61",
   "metadata": {
    "execution": {
     "iopub.execute_input": "2022-03-15T00:25:03.606565Z",
     "iopub.status.busy": "2022-03-15T00:25:03.605557Z",
     "iopub.status.idle": "2022-03-15T00:25:03.614764Z",
     "shell.execute_reply": "2022-03-15T00:25:03.614064Z",
     "shell.execute_reply.started": "2022-03-15T00:24:07.293746Z"
    },
    "papermill": {
     "duration": 0.092489,
     "end_time": "2022-03-15T00:25:03.614938",
     "exception": false,
     "start_time": "2022-03-15T00:25:03.522449",
     "status": "completed"
    },
    "tags": []
   },
   "outputs": [],
   "source": [
    "prediction = xgb.predict(df1)"
   ]
  },
  {
   "cell_type": "code",
   "execution_count": 46,
   "id": "aec986f7",
   "metadata": {
    "execution": {
     "iopub.execute_input": "2022-03-15T00:25:03.783107Z",
     "iopub.status.busy": "2022-03-15T00:25:03.782328Z",
     "iopub.status.idle": "2022-03-15T00:25:03.785306Z",
     "shell.execute_reply": "2022-03-15T00:25:03.785839Z",
     "shell.execute_reply.started": "2022-03-15T00:24:07.311131Z"
    },
    "papermill": {
     "duration": 0.089634,
     "end_time": "2022-03-15T00:25:03.786077",
     "exception": false,
     "start_time": "2022-03-15T00:25:03.696443",
     "status": "completed"
    },
    "tags": []
   },
   "outputs": [
    {
     "data": {
      "text/plain": [
       "array([0, 1, 0, 0, 1, 0, 1, 0, 1, 0, 0, 0, 1, 0, 1, 1, 0, 0, 1, 1, 1, 0,\n",
       "       1, 0, 1, 0, 1, 0, 1, 0, 0, 0, 1, 0, 1, 0, 0, 0, 0, 1, 0, 0, 0, 1,\n",
       "       1, 0, 0, 0, 1, 1, 0, 0, 1, 1, 0, 0, 0, 0, 0, 1, 0, 0, 0, 1, 0, 1,\n",
       "       1, 0, 0, 1, 1, 0, 1, 0, 1, 0, 0, 1, 0, 1, 0, 0, 0, 0, 0, 0, 1, 0,\n",
       "       1, 0, 1, 0, 1, 0, 0, 0, 1, 0, 1, 0, 1, 0, 0, 0, 0, 0, 0, 0, 0, 0,\n",
       "       0, 1, 1, 1, 1, 0, 0, 1, 1, 1, 1, 0, 1, 0, 0, 1, 0, 1, 0, 0, 0, 0,\n",
       "       0, 0, 0, 0, 0, 0, 0, 0, 0, 1, 0, 0, 0, 0, 0, 0, 0, 0, 1, 0, 0, 1,\n",
       "       0, 0, 1, 1, 0, 0, 1, 0, 1, 0, 0, 1, 0, 0, 1, 0, 0, 0, 0, 0, 0, 1,\n",
       "       1, 1, 1, 1, 0, 1, 1, 0, 1, 0, 1, 0, 0, 0, 0, 0, 0, 0, 0, 0, 1, 0,\n",
       "       0, 0, 1, 0, 0, 1, 0, 0, 1, 0, 1, 0, 0, 0, 0, 1, 0, 0, 1, 0, 1, 0,\n",
       "       1, 0, 1, 0, 1, 1, 0, 1, 0, 0, 0, 1, 0, 0, 0, 0, 1, 0, 1, 1, 1, 1,\n",
       "       1, 0, 0, 0, 1, 0, 1, 0, 1, 0, 0, 0, 0, 0, 0, 0, 1, 0, 0, 0, 1, 1,\n",
       "       0, 0, 0, 0, 0, 0, 1, 0, 1, 1, 0, 1, 0, 0, 0, 0, 0, 0, 1, 1, 1, 0,\n",
       "       0, 1, 0, 0, 0, 1, 0, 1, 0, 0, 1, 0, 0, 0, 0, 0, 0, 0, 1, 1, 0, 0,\n",
       "       1, 0, 0, 0, 0, 1, 1, 1, 0, 0, 0, 0, 0, 0, 0, 0, 1, 0, 1, 0, 0, 0,\n",
       "       1, 0, 0, 1, 0, 0, 0, 0, 0, 0, 0, 0, 0, 1, 0, 1, 0, 1, 0, 1, 1, 0,\n",
       "       0, 0, 1, 0, 1, 0, 0, 1, 0, 1, 1, 0, 1, 0, 0, 0, 1, 1, 0, 1, 0, 0,\n",
       "       1, 1, 0, 0, 0, 0, 0, 0, 0, 1, 0, 1, 0, 0, 0, 0, 1, 1, 0, 0, 0, 1,\n",
       "       0, 1, 0, 0, 1, 0, 1, 0, 0, 1, 0, 0, 1, 0, 1, 1, 0, 0, 1, 0, 0, 0])"
      ]
     },
     "execution_count": 46,
     "metadata": {},
     "output_type": "execute_result"
    }
   ],
   "source": [
    "prediction"
   ]
  },
  {
   "cell_type": "code",
   "execution_count": 47,
   "id": "e15ab2fc",
   "metadata": {
    "execution": {
     "iopub.execute_input": "2022-03-15T00:25:03.961503Z",
     "iopub.status.busy": "2022-03-15T00:25:03.960799Z",
     "iopub.status.idle": "2022-03-15T00:25:03.969737Z",
     "shell.execute_reply": "2022-03-15T00:25:03.970343Z",
     "shell.execute_reply.started": "2022-03-15T00:24:07.323030Z"
    },
    "papermill": {
     "duration": 0.099152,
     "end_time": "2022-03-15T00:25:03.970522",
     "exception": false,
     "start_time": "2022-03-15T00:25:03.871370",
     "status": "completed"
    },
    "tags": []
   },
   "outputs": [],
   "source": [
    "df1=pd.read_csv('/kaggle/input/titanic/test.csv')"
   ]
  },
  {
   "cell_type": "code",
   "execution_count": 48,
   "id": "065648ca",
   "metadata": {
    "execution": {
     "iopub.execute_input": "2022-03-15T00:25:04.140449Z",
     "iopub.status.busy": "2022-03-15T00:25:04.139646Z",
     "iopub.status.idle": "2022-03-15T00:25:04.151349Z",
     "shell.execute_reply": "2022-03-15T00:25:04.152075Z",
     "shell.execute_reply.started": "2022-03-15T00:24:07.350516Z"
    },
    "papermill": {
     "duration": 0.100657,
     "end_time": "2022-03-15T00:25:04.152265",
     "exception": false,
     "start_time": "2022-03-15T00:25:04.051608",
     "status": "completed"
    },
    "tags": []
   },
   "outputs": [
    {
     "data": {
      "text/html": [
       "<div>\n",
       "<style scoped>\n",
       "    .dataframe tbody tr th:only-of-type {\n",
       "        vertical-align: middle;\n",
       "    }\n",
       "\n",
       "    .dataframe tbody tr th {\n",
       "        vertical-align: top;\n",
       "    }\n",
       "\n",
       "    .dataframe thead th {\n",
       "        text-align: right;\n",
       "    }\n",
       "</style>\n",
       "<table border=\"1\" class=\"dataframe\">\n",
       "  <thead>\n",
       "    <tr style=\"text-align: right;\">\n",
       "      <th></th>\n",
       "      <th>PassengerId</th>\n",
       "      <th>Survived</th>\n",
       "    </tr>\n",
       "  </thead>\n",
       "  <tbody>\n",
       "    <tr>\n",
       "      <th>0</th>\n",
       "      <td>892</td>\n",
       "      <td>0</td>\n",
       "    </tr>\n",
       "    <tr>\n",
       "      <th>1</th>\n",
       "      <td>893</td>\n",
       "      <td>1</td>\n",
       "    </tr>\n",
       "    <tr>\n",
       "      <th>2</th>\n",
       "      <td>894</td>\n",
       "      <td>0</td>\n",
       "    </tr>\n",
       "    <tr>\n",
       "      <th>3</th>\n",
       "      <td>895</td>\n",
       "      <td>0</td>\n",
       "    </tr>\n",
       "    <tr>\n",
       "      <th>4</th>\n",
       "      <td>896</td>\n",
       "      <td>1</td>\n",
       "    </tr>\n",
       "    <tr>\n",
       "      <th>...</th>\n",
       "      <td>...</td>\n",
       "      <td>...</td>\n",
       "    </tr>\n",
       "    <tr>\n",
       "      <th>413</th>\n",
       "      <td>1305</td>\n",
       "      <td>0</td>\n",
       "    </tr>\n",
       "    <tr>\n",
       "      <th>414</th>\n",
       "      <td>1306</td>\n",
       "      <td>1</td>\n",
       "    </tr>\n",
       "    <tr>\n",
       "      <th>415</th>\n",
       "      <td>1307</td>\n",
       "      <td>0</td>\n",
       "    </tr>\n",
       "    <tr>\n",
       "      <th>416</th>\n",
       "      <td>1308</td>\n",
       "      <td>0</td>\n",
       "    </tr>\n",
       "    <tr>\n",
       "      <th>417</th>\n",
       "      <td>1309</td>\n",
       "      <td>0</td>\n",
       "    </tr>\n",
       "  </tbody>\n",
       "</table>\n",
       "<p>418 rows × 2 columns</p>\n",
       "</div>"
      ],
      "text/plain": [
       "     PassengerId  Survived\n",
       "0            892         0\n",
       "1            893         1\n",
       "2            894         0\n",
       "3            895         0\n",
       "4            896         1\n",
       "..           ...       ...\n",
       "413         1305         0\n",
       "414         1306         1\n",
       "415         1307         0\n",
       "416         1308         0\n",
       "417         1309         0\n",
       "\n",
       "[418 rows x 2 columns]"
      ]
     },
     "execution_count": 48,
     "metadata": {},
     "output_type": "execute_result"
    }
   ],
   "source": [
    "d = {'PassengerId': df1['PassengerId'] ,'Survived': prediction}\n",
    "results = pd.DataFrame(data=d)\n",
    "results"
   ]
  },
  {
   "cell_type": "code",
   "execution_count": 49,
   "id": "cd95344e",
   "metadata": {
    "execution": {
     "iopub.execute_input": "2022-03-15T00:25:04.319394Z",
     "iopub.status.busy": "2022-03-15T00:25:04.317462Z",
     "iopub.status.idle": "2022-03-15T00:25:04.326268Z",
     "shell.execute_reply": "2022-03-15T00:25:04.325478Z",
     "shell.execute_reply.started": "2022-03-15T00:24:07.369974Z"
    },
    "papermill": {
     "duration": 0.091299,
     "end_time": "2022-03-15T00:25:04.326435",
     "exception": false,
     "start_time": "2022-03-15T00:25:04.235136",
     "status": "completed"
    },
    "tags": []
   },
   "outputs": [],
   "source": [
    "results.to_csv('results.csv', index=False)"
   ]
  }
 ],
 "metadata": {
  "kernelspec": {
   "display_name": "Python 3",
   "language": "python",
   "name": "python3"
  },
  "language_info": {
   "codemirror_mode": {
    "name": "ipython",
    "version": 3
   },
   "file_extension": ".py",
   "mimetype": "text/x-python",
   "name": "python",
   "nbconvert_exporter": "python",
   "pygments_lexer": "ipython3",
   "version": "3.7.12"
  },
  "papermill": {
   "default_parameters": {},
   "duration": 23.052033,
   "end_time": "2022-03-15T00:25:05.224791",
   "environment_variables": {},
   "exception": null,
   "input_path": "__notebook__.ipynb",
   "output_path": "__notebook__.ipynb",
   "parameters": {},
   "start_time": "2022-03-15T00:24:42.172758",
   "version": "2.3.3"
  }
 },
 "nbformat": 4,
 "nbformat_minor": 5
}
